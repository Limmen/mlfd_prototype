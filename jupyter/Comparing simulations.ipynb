{
 "cells": [
  {
   "cell_type": "code",
   "execution_count": 1,
   "metadata": {
    "collapsed": true
   },
   "outputs": [],
   "source": [
    "import pandas as pd\n",
    "import numpy as np\n",
    "import matplotlib.pyplot as plt\n",
    "import math\n",
    "%matplotlib inline"
   ]
  },
  {
   "cell_type": "code",
   "execution_count": 2,
   "metadata": {},
   "outputs": [
    {
     "data": {
      "text/html": [
       "<div>\n",
       "<style>\n",
       "    .dataframe thead tr:only-child th {\n",
       "        text-align: right;\n",
       "    }\n",
       "\n",
       "    .dataframe thead th {\n",
       "        text-align: left;\n",
       "    }\n",
       "\n",
       "    .dataframe tbody tr th {\n",
       "        vertical-align: top;\n",
       "    }\n",
       "</style>\n",
       "<table border=\"1\" class=\"dataframe\">\n",
       "  <thead>\n",
       "    <tr style=\"text-align: right;\">\n",
       "      <th></th>\n",
       "      <th>test</th>\n",
       "      <th>workersCount</th>\n",
       "      <th>locationsCount</th>\n",
       "      <th>sampleSize</th>\n",
       "      <th>defaultMean</th>\n",
       "      <th>hbTimeout</th>\n",
       "      <th>stdDevCount</th>\n",
       "      <th>geoFactor</th>\n",
       "      <th>crashProb</th>\n",
       "      <th>delta</th>\n",
       "      <th>...</th>\n",
       "      <th>bandwidthCount</th>\n",
       "      <th>bandwidthFactor</th>\n",
       "      <th>batchSize</th>\n",
       "      <th>learningRate</th>\n",
       "      <th>regParam</th>\n",
       "      <th>numIterations</th>\n",
       "      <th>messageLossProb</th>\n",
       "      <th>stdevMargin</th>\n",
       "      <th>averageDetectiontime</th>\n",
       "      <th>mistakeRate</th>\n",
       "    </tr>\n",
       "  </thead>\n",
       "  <tbody>\n",
       "    <tr>\n",
       "      <th>0</th>\n",
       "      <td>mlfd_test</td>\n",
       "      <td>100</td>\n",
       "      <td>30</td>\n",
       "      <td>200</td>\n",
       "      <td>3000.0</td>\n",
       "      <td>4 seconds</td>\n",
       "      <td>30</td>\n",
       "      <td>100.0</td>\n",
       "      <td>0.0050</td>\n",
       "      <td>nil</td>\n",
       "      <td>...</td>\n",
       "      <td>10</td>\n",
       "      <td>10000.0</td>\n",
       "      <td>100</td>\n",
       "      <td>1.000000e-08</td>\n",
       "      <td>0.3</td>\n",
       "      <td>10</td>\n",
       "      <td>6030.5000</td>\n",
       "      <td>1.833333</td>\n",
       "      <td>NaN</td>\n",
       "      <td>NaN</td>\n",
       "    </tr>\n",
       "    <tr>\n",
       "      <th>1</th>\n",
       "      <td>mlfd_test</td>\n",
       "      <td>100</td>\n",
       "      <td>30</td>\n",
       "      <td>200</td>\n",
       "      <td>3000.0</td>\n",
       "      <td>4 seconds</td>\n",
       "      <td>30</td>\n",
       "      <td>100.0</td>\n",
       "      <td>0.0050</td>\n",
       "      <td>nil</td>\n",
       "      <td>...</td>\n",
       "      <td>10</td>\n",
       "      <td>10000.0</td>\n",
       "      <td>100</td>\n",
       "      <td>1.000000e-08</td>\n",
       "      <td>0.3</td>\n",
       "      <td>10</td>\n",
       "      <td>6027.5000</td>\n",
       "      <td>1.733333</td>\n",
       "      <td>NaN</td>\n",
       "      <td>NaN</td>\n",
       "    </tr>\n",
       "    <tr>\n",
       "      <th>2</th>\n",
       "      <td>mlfd_test</td>\n",
       "      <td>100</td>\n",
       "      <td>30</td>\n",
       "      <td>200</td>\n",
       "      <td>3000.0</td>\n",
       "      <td>4 seconds</td>\n",
       "      <td>30</td>\n",
       "      <td>100.0</td>\n",
       "      <td>0.0050</td>\n",
       "      <td>nil</td>\n",
       "      <td>...</td>\n",
       "      <td>10</td>\n",
       "      <td>10000.0</td>\n",
       "      <td>100</td>\n",
       "      <td>1.000000e-08</td>\n",
       "      <td>0.3</td>\n",
       "      <td>10</td>\n",
       "      <td>0.0050</td>\n",
       "      <td>2.000000</td>\n",
       "      <td>5845.654545</td>\n",
       "      <td>0.235000</td>\n",
       "    </tr>\n",
       "    <tr>\n",
       "      <th>3</th>\n",
       "      <td>mlfd_test</td>\n",
       "      <td>100</td>\n",
       "      <td>30</td>\n",
       "      <td>200</td>\n",
       "      <td>3000.0</td>\n",
       "      <td>2 seconds</td>\n",
       "      <td>30</td>\n",
       "      <td>100.0</td>\n",
       "      <td>0.0005</td>\n",
       "      <td>nil</td>\n",
       "      <td>...</td>\n",
       "      <td>10</td>\n",
       "      <td>10000.0</td>\n",
       "      <td>100</td>\n",
       "      <td>1.000000e-08</td>\n",
       "      <td>0.3</td>\n",
       "      <td>10</td>\n",
       "      <td>0.0005</td>\n",
       "      <td>2.000000</td>\n",
       "      <td>4111.018182</td>\n",
       "      <td>0.094667</td>\n",
       "    </tr>\n",
       "  </tbody>\n",
       "</table>\n",
       "<p>4 rows × 21 columns</p>\n",
       "</div>"
      ],
      "text/plain": [
       "        test  workersCount  locationsCount  sampleSize  defaultMean  \\\n",
       "0  mlfd_test           100              30         200       3000.0   \n",
       "1  mlfd_test           100              30         200       3000.0   \n",
       "2  mlfd_test           100              30         200       3000.0   \n",
       "3  mlfd_test           100              30         200       3000.0   \n",
       "\n",
       "   hbTimeout  stdDevCount  geoFactor  crashProb delta     ...       \\\n",
       "0  4 seconds           30      100.0     0.0050   nil     ...        \n",
       "1  4 seconds           30      100.0     0.0050   nil     ...        \n",
       "2  4 seconds           30      100.0     0.0050   nil     ...        \n",
       "3  2 seconds           30      100.0     0.0005   nil     ...        \n",
       "\n",
       "   bandwidthCount  bandwidthFactor  batchSize  learningRate  regParam  \\\n",
       "0              10          10000.0        100  1.000000e-08       0.3   \n",
       "1              10          10000.0        100  1.000000e-08       0.3   \n",
       "2              10          10000.0        100  1.000000e-08       0.3   \n",
       "3              10          10000.0        100  1.000000e-08       0.3   \n",
       "\n",
       "   numIterations  messageLossProb  stdevMargin  averageDetectiontime  \\\n",
       "0             10        6030.5000     1.833333                   NaN   \n",
       "1             10        6027.5000     1.733333                   NaN   \n",
       "2             10           0.0050     2.000000           5845.654545   \n",
       "3             10           0.0005     2.000000           4111.018182   \n",
       "\n",
       "   mistakeRate  \n",
       "0          NaN  \n",
       "1          NaN  \n",
       "2     0.235000  \n",
       "3     0.094667  \n",
       "\n",
       "[4 rows x 21 columns]"
      ]
     },
     "execution_count": 2,
     "metadata": {},
     "output_type": "execute_result"
    }
   ],
   "source": [
    "test_info = pd.read_csv(\"../data/stats/test_info.csv\")\n",
    "test_info"
   ]
  },
  {
   "cell_type": "code",
   "execution_count": null,
   "metadata": {},
   "outputs": [],
   "source": []
  },
  {
   "cell_type": "code",
   "execution_count": 6,
   "metadata": {},
   "outputs": [
    {
     "data": {
      "image/png": "[encoded data removed]",
      "text/plain": [
       "<matplotlib.figure.Figure at 0x7fcf5a701ba8>"
      ]
     },
     "metadata": {},
     "output_type": "display_data"
    }
   ],
   "source": [
    "detect_sample = test_info.loc[:,[\"crashProb\", \"averageDetectiontime\"]]\n",
    "time = detect_sample[\"crashProb\"].values\n",
    "nodes = detect_sample[\"averageDetectiontime\"].values\n",
    "plt.plot(time, nodes)\n",
    "plt.ylabel('Average detection time')\n",
    "plt.xlabel('Probability of node crashing every heartbeat')\n",
    "plt.title('Average detection time with respect to probability of crashes')\n",
    "plt.show()"
   ]
  },
  {
   "cell_type": "code",
   "execution_count": 5,
   "metadata": {},
   "outputs": [
    {
     "data": {
      "image/png": "[encoded data removed]",
      "text/plain": [
       "<matplotlib.figure.Figure at 0x7fcf5a769ef0>"
      ]
     },
     "metadata": {},
     "output_type": "display_data"
    }
   ],
   "source": [
    "detect_sample = test_info.loc[:,[\"crashProb\", \"mistakeRate\"]]\n",
    "time = detect_sample[\"crashProb\"].values\n",
    "nodes = detect_sample[\"mistakeRate\"].values\n",
    "plt.plot(time, nodes)\n",
    "plt.ylabel('mistakeRate (mistake/s)')\n",
    "plt.xlabel('Probability of node crashing every heartbeat')\n",
    "plt.title('Mistakerate with respect to probability of crashes')\n",
    "plt.show()"
   ]
  },
  {
   "cell_type": "code",
   "execution_count": null,
   "metadata": {
    "collapsed": true
   },
   "outputs": [],
   "source": []
  }
 ],
 "metadata": {
  "kernelspec": {
   "display_name": "Python 3",
   "language": "python",
   "name": "python3"
  },
  "language_info": {
   "codemirror_mode": {
    "name": "ipython",
    "version": 3
   },
   "file_extension": ".py",
   "mimetype": "text/x-python",
   "name": "python",
   "nbconvert_exporter": "python",
   "pygments_lexer": "ipython3",
   "version": "3.6.1"
  }
 },
 "nbformat": 4,
 "nbformat_minor": 2
}
