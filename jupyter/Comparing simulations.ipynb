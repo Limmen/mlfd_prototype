{
 "cells": [
  {
   "cell_type": "code",
   "execution_count": 1,
   "metadata": {
    "collapsed": true
   },
   "outputs": [],
   "source": [
    "import pandas as pd\n",
    "import numpy as np\n",
    "import matplotlib.pyplot as plt\n",
    "import math\n",
    "%matplotlib inline"
   ]
  },
  {
   "cell_type": "code",
   "execution_count": 2,
   "metadata": {},
   "outputs": [
    {
     "data": {
      "text/html": [
       "<div>\n",
       "<style>\n",
       "    .dataframe thead tr:only-child th {\n",
       "        text-align: right;\n",
       "    }\n",
       "\n",
       "    .dataframe thead th {\n",
       "        text-align: left;\n",
       "    }\n",
       "\n",
       "    .dataframe tbody tr th {\n",
       "        vertical-align: top;\n",
       "    }\n",
       "</style>\n",
       "<table border=\"1\" class=\"dataframe\">\n",
       "  <thead>\n",
       "    <tr style=\"text-align: right;\">\n",
       "      <th></th>\n",
       "      <th>test</th>\n",
       "      <th>workersCount</th>\n",
       "      <th>locationsCount</th>\n",
       "      <th>sampleSize</th>\n",
       "      <th>defaultMean</th>\n",
       "      <th>hbTimeout</th>\n",
       "      <th>stdDevCount</th>\n",
       "      <th>geoFactor</th>\n",
       "      <th>crashProb</th>\n",
       "      <th>delta</th>\n",
       "      <th>defaultStd</th>\n",
       "      <th>bandwidthCount</th>\n",
       "      <th>bandwidthFactor</th>\n",
       "      <th>batchSize</th>\n",
       "      <th>learningRate</th>\n",
       "      <th>regParam</th>\n",
       "      <th>numIterations</th>\n",
       "      <th>averageDetectiontime</th>\n",
       "      <th>mistakeRate</th>\n",
       "    </tr>\n",
       "  </thead>\n",
       "  <tbody>\n",
       "    <tr>\n",
       "      <th>0</th>\n",
       "      <td>mlfd_test</td>\n",
       "      <td>100</td>\n",
       "      <td>30</td>\n",
       "      <td>200</td>\n",
       "      <td>3000.0</td>\n",
       "      <td>4 seconds</td>\n",
       "      <td>30</td>\n",
       "      <td>100.0</td>\n",
       "      <td>0.005</td>\n",
       "      <td>nil</td>\n",
       "      <td>1000.0</td>\n",
       "      <td>10</td>\n",
       "      <td>10000.0</td>\n",
       "      <td>100</td>\n",
       "      <td>1.000000e-08</td>\n",
       "      <td>0.3</td>\n",
       "      <td>10</td>\n",
       "      <td>6030.5</td>\n",
       "      <td>1.833333</td>\n",
       "    </tr>\n",
       "    <tr>\n",
       "      <th>1</th>\n",
       "      <td>mlfd_test</td>\n",
       "      <td>100</td>\n",
       "      <td>30</td>\n",
       "      <td>200</td>\n",
       "      <td>3000.0</td>\n",
       "      <td>4 seconds</td>\n",
       "      <td>30</td>\n",
       "      <td>100.0</td>\n",
       "      <td>0.005</td>\n",
       "      <td>nil</td>\n",
       "      <td>1000.0</td>\n",
       "      <td>10</td>\n",
       "      <td>10000.0</td>\n",
       "      <td>100</td>\n",
       "      <td>1.000000e-08</td>\n",
       "      <td>0.3</td>\n",
       "      <td>10</td>\n",
       "      <td>6027.5</td>\n",
       "      <td>1.733333</td>\n",
       "    </tr>\n",
       "  </tbody>\n",
       "</table>\n",
       "</div>"
      ],
      "text/plain": [
       "        test  workersCount  locationsCount  sampleSize  defaultMean  \\\n",
       "0  mlfd_test           100              30         200       3000.0   \n",
       "1  mlfd_test           100              30         200       3000.0   \n",
       "\n",
       "   hbTimeout  stdDevCount  geoFactor  crashProb delta  defaultStd  \\\n",
       "0  4 seconds           30      100.0      0.005   nil      1000.0   \n",
       "1  4 seconds           30      100.0      0.005   nil      1000.0   \n",
       "\n",
       "   bandwidthCount  bandwidthFactor  batchSize  learningRate  regParam  \\\n",
       "0              10          10000.0        100  1.000000e-08       0.3   \n",
       "1              10          10000.0        100  1.000000e-08       0.3   \n",
       "\n",
       "   numIterations  averageDetectiontime  mistakeRate  \n",
       "0             10                6030.5     1.833333  \n",
       "1             10                6027.5     1.733333  "
      ]
     },
     "execution_count": 2,
     "metadata": {},
     "output_type": "execute_result"
    }
   ],
   "source": [
    "test_info = pd.read_csv(\"../data/stats/test_info.csv\")\n",
    "test_info"
   ]
  },
  {
   "cell_type": "code",
   "execution_count": 5,
   "metadata": {},
   "outputs": [
    {
     "data": {
      "text/html": [
       "<div>\n",
       "<style>\n",
       "    .dataframe thead tr:only-child th {\n",
       "        text-align: right;\n",
       "    }\n",
       "\n",
       "    .dataframe thead th {\n",
       "        text-align: left;\n",
       "    }\n",
       "\n",
       "    .dataframe tbody tr th {\n",
       "        vertical-align: top;\n",
       "    }\n",
       "</style>\n",
       "<table border=\"1\" class=\"dataframe\">\n",
       "  <thead>\n",
       "    <tr style=\"text-align: right;\">\n",
       "      <th></th>\n",
       "      <th>sampleSize</th>\n",
       "      <th>averageDetectiontime</th>\n",
       "    </tr>\n",
       "  </thead>\n",
       "  <tbody>\n",
       "    <tr>\n",
       "      <th>0</th>\n",
       "      <td>200</td>\n",
       "      <td>6030.5</td>\n",
       "    </tr>\n",
       "    <tr>\n",
       "      <th>1</th>\n",
       "      <td>200</td>\n",
       "      <td>6027.5</td>\n",
       "    </tr>\n",
       "  </tbody>\n",
       "</table>\n",
       "</div>"
      ],
      "text/plain": [
       "   sampleSize  averageDetectiontime\n",
       "0         200                6030.5\n",
       "1         200                6027.5"
      ]
     },
     "execution_count": 5,
     "metadata": {},
     "output_type": "execute_result"
    }
   ],
   "source": []
  },
  {
   "cell_type": "code",
   "execution_count": 7,
   "metadata": {},
   "outputs": [
    {
     "data": {
      "image/png": "[encoded data removed]",
      "text/plain": [
       "<matplotlib.figure.Figure at 0x7fdd437cf400>"
      ]
     },
     "metadata": {},
     "output_type": "display_data"
    }
   ],
   "source": [
    "detect_sample = test_info.loc[:,[\"sampleSize\", \"averageDetectiontime\"]]\n",
    "time = detect_sample[\"sampleSize\"].values\n",
    "nodes = detect_sample[\"averageDetectiontime\"].values\n",
    "plt.plot(time, nodes)\n",
    "plt.ylabel('Average detection time')\n",
    "plt.xlabel('sampleSize')\n",
    "plt.title('Average detection time with respect to sample window size')\n",
    "plt.show()"
   ]
  },
  {
   "cell_type": "code",
   "execution_count": 8,
   "metadata": {},
   "outputs": [
    {
     "data": {
      "image/png": "[encoded data removed]",
      "text/plain": [
       "<matplotlib.figure.Figure at 0x7fdd42b65b00>"
      ]
     },
     "metadata": {},
     "output_type": "display_data"
    }
   ],
   "source": [
    "detect_sample = test_info.loc[:,[\"sampleSize\", \"mistakeRate\"]]\n",
    "time = detect_sample[\"sampleSize\"].values\n",
    "nodes = detect_sample[\"mistakeRate\"].values\n",
    "plt.plot(time, nodes)\n",
    "plt.ylabel('mistakeRate (mistake/s)')\n",
    "plt.xlabel('sampleSize')\n",
    "plt.title('Mistakerate with respect to sample window size')\n",
    "plt.show()"
   ]
  },
  {
   "cell_type": "code",
   "execution_count": null,
   "metadata": {
    "collapsed": true
   },
   "outputs": [],
   "source": []
  }
 ],
 "metadata": {
  "kernelspec": {
   "display_name": "Python 3",
   "language": "python",
   "name": "python3"
  },
  "language_info": {
   "codemirror_mode": {
    "name": "ipython",
    "version": 3
   },
   "file_extension": ".py",
   "mimetype": "text/x-python",
   "name": "python",
   "nbconvert_exporter": "python",
   "pygments_lexer": "ipython3",
   "version": "3.6.1"
  }
 },
 "nbformat": 4,
 "nbformat_minor": 2
}
