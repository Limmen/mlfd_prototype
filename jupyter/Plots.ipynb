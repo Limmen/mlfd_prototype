{
 "cells": [
  {
   "cell_type": "markdown",
   "metadata": {},
   "source": [
    "# Some plots and analysis of simulation data"
   ]
  },
  {
   "cell_type": "code",
   "execution_count": 2,
   "metadata": {
    "collapsed": true
   },
   "outputs": [],
   "source": [
    "import pandas as pd\n",
    "import numpy as np\n",
    "import matplotlib.pyplot as plt\n",
    "import math\n",
    "%matplotlib inline"
   ]
  },
  {
   "cell_type": "markdown",
   "metadata": {},
   "source": [
    "## Simulation Parameters"
   ]
  },
  {
   "cell_type": "code",
   "execution_count": 3,
   "metadata": {},
   "outputs": [
    {
     "data": {
      "text/html": [
       "<div>\n",
       "<style>\n",
       "    .dataframe thead tr:only-child th {\n",
       "        text-align: right;\n",
       "    }\n",
       "\n",
       "    .dataframe thead th {\n",
       "        text-align: left;\n",
       "    }\n",
       "\n",
       "    .dataframe tbody tr th {\n",
       "        vertical-align: top;\n",
       "    }\n",
       "</style>\n",
       "<table border=\"1\" class=\"dataframe\">\n",
       "  <thead>\n",
       "    <tr style=\"text-align: right;\">\n",
       "      <th></th>\n",
       "      <th>test</th>\n",
       "      <th>workersCount</th>\n",
       "      <th>locationsCount</th>\n",
       "      <th>sampleSize</th>\n",
       "      <th>defaultMean</th>\n",
       "      <th>hbTimeout</th>\n",
       "      <th>randomMillis</th>\n",
       "      <th>geoFactor</th>\n",
       "      <th>crashProb</th>\n",
       "      <th>delta</th>\n",
       "    </tr>\n",
       "  </thead>\n",
       "  <tbody>\n",
       "    <tr>\n",
       "      <th>0</th>\n",
       "      <td>mlfd_test</td>\n",
       "      <td>100</td>\n",
       "      <td>100</td>\n",
       "      <td>100</td>\n",
       "      <td>3000.0</td>\n",
       "      <td>4 seconds</td>\n",
       "      <td>200</td>\n",
       "      <td>100.0</td>\n",
       "      <td>0.001</td>\n",
       "      <td>NaN</td>\n",
       "    </tr>\n",
       "  </tbody>\n",
       "</table>\n",
       "</div>"
      ],
      "text/plain": [
       "        test  workersCount  locationsCount  sampleSize  defaultMean  \\\n",
       "0  mlfd_test           100             100         100       3000.0   \n",
       "\n",
       "   hbTimeout  randomMillis  geoFactor  crashProb  delta  \n",
       "0  4 seconds           200      100.0      0.001    NaN  "
      ]
     },
     "execution_count": 3,
     "metadata": {},
     "output_type": "execute_result"
    }
   ],
   "source": [
    "test_info = pd.read_csv(\"../data/backup/stats_mlfd/test_info.csv\")\n",
    "test_info"
   ]
  },
  {
   "cell_type": "markdown",
   "metadata": {},
   "source": [
    "## Prediction Evaluation of the Online-learner in the FD"
   ]
  },
  {
   "cell_type": "code",
   "execution_count": 4,
   "metadata": {},
   "outputs": [
    {
     "data": {
      "text/html": [
       "<div>\n",
       "<style>\n",
       "    .dataframe thead tr:only-child th {\n",
       "        text-align: right;\n",
       "    }\n",
       "\n",
       "    .dataframe thead th {\n",
       "        text-align: left;\n",
       "    }\n",
       "\n",
       "    .dataframe tbody tr th {\n",
       "        vertical-align: top;\n",
       "    }\n",
       "</style>\n",
       "<table border=\"1\" class=\"dataframe\">\n",
       "  <thead>\n",
       "    <tr style=\"text-align: right;\">\n",
       "      <th></th>\n",
       "      <th>meanSquaredError</th>\n",
       "      <th>rootMeanSquaredError</th>\n",
       "      <th>rSquared</th>\n",
       "      <th>meanAbsoluteError</th>\n",
       "      <th>explainedVariance</th>\n",
       "      <th>timestamp</th>\n",
       "    </tr>\n",
       "  </thead>\n",
       "  <tbody>\n",
       "    <tr>\n",
       "      <th>0</th>\n",
       "      <td>2.891005e+06</td>\n",
       "      <td>1700.295700</td>\n",
       "      <td>-0.815136</td>\n",
       "      <td>1418.753397</td>\n",
       "      <td>6.844245e+06</td>\n",
       "      <td>1504424870000</td>\n",
       "    </tr>\n",
       "    <tr>\n",
       "      <th>1</th>\n",
       "      <td>2.135465e+05</td>\n",
       "      <td>462.110885</td>\n",
       "      <td>0.974527</td>\n",
       "      <td>349.727503</td>\n",
       "      <td>1.041643e+07</td>\n",
       "      <td>1504424876000</td>\n",
       "    </tr>\n",
       "    <tr>\n",
       "      <th>2</th>\n",
       "      <td>1.632067e+04</td>\n",
       "      <td>127.752381</td>\n",
       "      <td>0.996729</td>\n",
       "      <td>105.777594</td>\n",
       "      <td>5.328207e+06</td>\n",
       "      <td>1504424883000</td>\n",
       "    </tr>\n",
       "    <tr>\n",
       "      <th>3</th>\n",
       "      <td>4.299215e+03</td>\n",
       "      <td>65.568400</td>\n",
       "      <td>0.999504</td>\n",
       "      <td>56.537756</td>\n",
       "      <td>8.820089e+06</td>\n",
       "      <td>1504424888000</td>\n",
       "    </tr>\n",
       "    <tr>\n",
       "      <th>4</th>\n",
       "      <td>3.624345e+03</td>\n",
       "      <td>60.202532</td>\n",
       "      <td>0.999099</td>\n",
       "      <td>48.894390</td>\n",
       "      <td>4.148113e+06</td>\n",
       "      <td>1504424895000</td>\n",
       "    </tr>\n",
       "  </tbody>\n",
       "</table>\n",
       "</div>"
      ],
      "text/plain": [
       "   meanSquaredError  rootMeanSquaredError  rSquared  meanAbsoluteError  \\\n",
       "0      2.891005e+06           1700.295700 -0.815136        1418.753397   \n",
       "1      2.135465e+05            462.110885  0.974527         349.727503   \n",
       "2      1.632067e+04            127.752381  0.996729         105.777594   \n",
       "3      4.299215e+03             65.568400  0.999504          56.537756   \n",
       "4      3.624345e+03             60.202532  0.999099          48.894390   \n",
       "\n",
       "   explainedVariance      timestamp  \n",
       "0       6.844245e+06  1504424870000  \n",
       "1       1.041643e+07  1504424876000  \n",
       "2       5.328207e+06  1504424883000  \n",
       "3       8.820089e+06  1504424888000  \n",
       "4       4.148113e+06  1504424895000  "
      ]
     },
     "execution_count": 4,
     "metadata": {},
     "output_type": "execute_result"
    }
   ],
   "source": [
    "test_evaluations = pd.read_csv(\"../data/backup/stats_mlfd/testresults.csv\")\n",
    "test_evaluations.head()"
   ]
  },
  {
   "cell_type": "code",
   "execution_count": 5,
   "metadata": {},
   "outputs": [
    {
     "data": {
      "image/png": "[encoded data removed]",
      "text/plain": [
       "<matplotlib.figure.Figure at 0x7f1a5678e5f8>"
      ]
     },
     "metadata": {},
     "output_type": "display_data"
    }
   ],
   "source": [
    "time = test_evaluations[\"timestamp\"].values\n",
    "mse = test_evaluations[\"meanSquaredError\"].values\n",
    "plt.plot(time, mse)\n",
    "plt.ylabel('Mean Squared Error')\n",
    "plt.xlabel('timestamps')\n",
    "plt.title('MSE for timeout predictions with respect to time')\n",
    "plt.show()"
   ]
  },
  {
   "cell_type": "markdown",
   "metadata": {},
   "source": [
    "## RTT Distributions related to geographic location"
   ]
  },
  {
   "cell_type": "code",
   "execution_count": 6,
   "metadata": {
    "collapsed": true
   },
   "outputs": [],
   "source": [
    "rtt_data = pd.read_csv('../data/backup/stats_mlfd/rtt_data.csv')"
   ]
  },
  {
   "cell_type": "code",
   "execution_count": 7,
   "metadata": {},
   "outputs": [
    {
     "data": {
      "text/html": [
       "<div>\n",
       "<style>\n",
       "    .dataframe thead tr:only-child th {\n",
       "        text-align: right;\n",
       "    }\n",
       "\n",
       "    .dataframe thead th {\n",
       "        text-align: left;\n",
       "    }\n",
       "\n",
       "    .dataframe tbody tr th {\n",
       "        vertical-align: top;\n",
       "    }\n",
       "</style>\n",
       "<table border=\"1\" class=\"dataframe\">\n",
       "  <thead>\n",
       "    <tr style=\"text-align: right;\">\n",
       "      <th></th>\n",
       "      <th>node</th>\n",
       "      <th>geoLocation</th>\n",
       "      <th>rtt</th>\n",
       "      <th>timestamp</th>\n",
       "      <th>mean</th>\n",
       "    </tr>\n",
       "  </thead>\n",
       "  <tbody>\n",
       "    <tr>\n",
       "      <th>0</th>\n",
       "      <td>100</td>\n",
       "      <td>0</td>\n",
       "      <td>270.0</td>\n",
       "      <td>1504424862481</td>\n",
       "      <td>270.0</td>\n",
       "    </tr>\n",
       "    <tr>\n",
       "      <th>1</th>\n",
       "      <td>1</td>\n",
       "      <td>1</td>\n",
       "      <td>338.0</td>\n",
       "      <td>1504424862550</td>\n",
       "      <td>338.0</td>\n",
       "    </tr>\n",
       "    <tr>\n",
       "      <th>2</th>\n",
       "      <td>2</td>\n",
       "      <td>2</td>\n",
       "      <td>548.0</td>\n",
       "      <td>1504424862760</td>\n",
       "      <td>548.0</td>\n",
       "    </tr>\n",
       "    <tr>\n",
       "      <th>3</th>\n",
       "      <td>3</td>\n",
       "      <td>3</td>\n",
       "      <td>599.0</td>\n",
       "      <td>1504424862811</td>\n",
       "      <td>599.0</td>\n",
       "    </tr>\n",
       "    <tr>\n",
       "      <th>4</th>\n",
       "      <td>4</td>\n",
       "      <td>4</td>\n",
       "      <td>648.0</td>\n",
       "      <td>1504424862860</td>\n",
       "      <td>648.0</td>\n",
       "    </tr>\n",
       "  </tbody>\n",
       "</table>\n",
       "</div>"
      ],
      "text/plain": [
       "   node  geoLocation    rtt      timestamp   mean\n",
       "0   100            0  270.0  1504424862481  270.0\n",
       "1     1            1  338.0  1504424862550  338.0\n",
       "2     2            2  548.0  1504424862760  548.0\n",
       "3     3            3  599.0  1504424862811  599.0\n",
       "4     4            4  648.0  1504424862860  648.0"
      ]
     },
     "execution_count": 7,
     "metadata": {},
     "output_type": "execute_result"
    }
   ],
   "source": [
    "rtt_data.head()"
   ]
  },
  {
   "cell_type": "code",
   "execution_count": 8,
   "metadata": {},
   "outputs": [
    {
     "data": {
      "image/png": "[encoded data removed]",
      "text/plain": [
       "<matplotlib.figure.Figure at 0x7f1a53412b70>"
      ]
     },
     "metadata": {},
     "output_type": "display_data"
    }
   ],
   "source": [
    "geo = rtt_data[\"geoLocation\"].values\n",
    "rtt = rtt_data[\"rtt\"].values\n",
    "plt.plot(geo, rtt)\n",
    "plt.axis([0, 100, 0, 10000])\n",
    "plt.ylabel('RTT')\n",
    "plt.xlabel('Geographic distance')\n",
    "plt.title('Plot of how geographic location affect RTT')\n",
    "plt.show()"
   ]
  },
  {
   "cell_type": "code",
   "execution_count": 9,
   "metadata": {},
   "outputs": [
    {
     "data": {
      "text/plain": [
       "geoLocation\n",
       "0    131.860000\n",
       "1    226.456522\n",
       "2    325.627907\n",
       "3    427.609756\n",
       "4    530.630435\n",
       "Name: rtt, dtype: float64"
      ]
     },
     "execution_count": 9,
     "metadata": {},
     "output_type": "execute_result"
    }
   ],
   "source": [
    "rtt_data_with_mean = rtt_data.groupby(['geoLocation', 'rtt'], as_index=False).mean().groupby('geoLocation')['rtt'].mean()\n",
    "rtt_data_with_mean.head()"
   ]
  },
  {
   "cell_type": "code",
   "execution_count": 10,
   "metadata": {},
   "outputs": [
    {
     "data": {
      "text/html": [
       "<div>\n",
       "<style>\n",
       "    .dataframe thead tr:only-child th {\n",
       "        text-align: right;\n",
       "    }\n",
       "\n",
       "    .dataframe thead th {\n",
       "        text-align: left;\n",
       "    }\n",
       "\n",
       "    .dataframe tbody tr th {\n",
       "        vertical-align: top;\n",
       "    }\n",
       "</style>\n",
       "<table border=\"1\" class=\"dataframe\">\n",
       "  <thead>\n",
       "    <tr style=\"text-align: right;\">\n",
       "      <th></th>\n",
       "      <th>rtt</th>\n",
       "    </tr>\n",
       "    <tr>\n",
       "      <th>geoLocation</th>\n",
       "      <th></th>\n",
       "    </tr>\n",
       "  </thead>\n",
       "  <tbody>\n",
       "    <tr>\n",
       "      <th>0</th>\n",
       "      <td>58.987944</td>\n",
       "    </tr>\n",
       "    <tr>\n",
       "      <th>1</th>\n",
       "      <td>57.103708</td>\n",
       "    </tr>\n",
       "    <tr>\n",
       "      <th>2</th>\n",
       "      <td>61.323999</td>\n",
       "    </tr>\n",
       "    <tr>\n",
       "      <th>3</th>\n",
       "      <td>59.254465</td>\n",
       "    </tr>\n",
       "    <tr>\n",
       "      <th>4</th>\n",
       "      <td>60.819616</td>\n",
       "    </tr>\n",
       "  </tbody>\n",
       "</table>\n",
       "</div>"
      ],
      "text/plain": [
       "                   rtt\n",
       "geoLocation           \n",
       "0            58.987944\n",
       "1            57.103708\n",
       "2            61.323999\n",
       "3            59.254465\n",
       "4            60.819616"
      ]
     },
     "execution_count": 10,
     "metadata": {},
     "output_type": "execute_result"
    }
   ],
   "source": [
    "rtt_data_with_std = rtt_data.groupby('geoLocation')[['rtt']].std()\n",
    "rtt_data_with_std.head()"
   ]
  },
  {
   "cell_type": "code",
   "execution_count": 11,
   "metadata": {},
   "outputs": [
    {
     "data": {
      "image/png": "[encoded data removed]",
      "text/plain": [
       "<matplotlib.figure.Figure at 0x7f1a533349b0>"
      ]
     },
     "metadata": {},
     "output_type": "display_data"
    }
   ],
   "source": [
    "plt.plot(rtt_data_with_mean)\n",
    "#plt.axis([0, 100, 0, 10000])\n",
    "plt.ylabel('RTT')\n",
    "plt.xlabel('Geographic distance')\n",
    "plt.title('Mean RTT Plot by Geographic distance')\n",
    "plt.show()"
   ]
  },
  {
   "cell_type": "code",
   "execution_count": 12,
   "metadata": {},
   "outputs": [
    {
     "data": {
      "image/png": "[encoded data removed]",
      "text/plain": [
       "<matplotlib.figure.Figure at 0x7f1a532f3320>"
      ]
     },
     "metadata": {},
     "output_type": "display_data"
    }
   ],
   "source": [
    "rtt = rtt_data_with_mean.values\n",
    "std = rtt_data_with_std.values\n",
    "l = len(rtt)\n",
    "width = 0.35\n",
    "error_config = {'ecolor': '0.3'}\n",
    "plt.bar(range(len(rtt)), rtt, width=width, color='r', yerr=std, error_kw=error_config, label='GeoLocation')\n",
    "plt.xlabel('GeoLocation')\n",
    "plt.ylabel('Mean RTT')\n",
    "plt.title('Mean RTT by GeoLocation with error-bars')\n",
    "plt.legend()\n",
    "plt.tight_layout()"
   ]
  },
  {
   "cell_type": "code",
   "execution_count": 13,
   "metadata": {},
   "outputs": [
    {
     "data": {
      "image/png": "[encoded data removed]",
      "text/plain": [
       "<matplotlib.figure.Figure at 0x7f1a533e0400>"
      ]
     },
     "metadata": {},
     "output_type": "display_data"
    }
   ],
   "source": [
    "rtt = rtt_data_with_mean.head().values\n",
    "std = rtt_data_with_std.head().values\n",
    "l = len(rtt)\n",
    "width = 0.35\n",
    "error_config = {'ecolor': '0.3'}\n",
    "plt.bar(range(len(rtt)), rtt, width=width, color='r', yerr=std, error_kw=error_config, label='GeoLocation')\n",
    "plt.xlabel('GeoLocation')\n",
    "plt.ylabel('Mean RTT')\n",
    "plt.title('Mean RTT by GeoLocation with error-bars, only first 5 geo')\n",
    "plt.legend()\n",
    "plt.tight_layout()"
   ]
  },
  {
   "cell_type": "markdown",
   "metadata": {},
   "source": [
    "## Predictions for a single Node"
   ]
  },
  {
   "cell_type": "code",
   "execution_count": 14,
   "metadata": {},
   "outputs": [
    {
     "data": {
      "image/png": "[encoded data removed]",
      "text/plain": [
       "<matplotlib.figure.Figure at 0x7f1a53041a58>"
      ]
     },
     "metadata": {},
     "output_type": "display_data"
    }
   ],
   "source": [
    "prediction_data = pd.read_csv('../data/backup/stats_mlfd/prediction_data.csv')\n",
    "node89 = prediction_data.loc[prediction_data['node'] == 89]\n",
    "time = node89[\"timestamp\"].values\n",
    "prediction = node89[\"prediction\"].values\n",
    "plt.plot(time, prediction)\n",
    "plt.ylabel('Timeout')\n",
    "plt.xlabel('timestamps')\n",
    "plt.title('Timeout prediction for node 89')\n",
    "plt.show()"
   ]
  },
  {
   "cell_type": "markdown",
   "metadata": {},
   "source": [
    "## RTT-data for a single Node"
   ]
  },
  {
   "cell_type": "code",
   "execution_count": 15,
   "metadata": {},
   "outputs": [
    {
     "data": {
      "image/png": "[encoded data removed]",
      "text/plain": [
       "<matplotlib.figure.Figure at 0x7f1a52f7ffd0>"
      ]
     },
     "metadata": {},
     "output_type": "display_data"
    }
   ],
   "source": [
    "node89 = rtt_data.loc[rtt_data['node'] == 89]\n",
    "time = node89[\"timestamp\"].values\n",
    "prediction = node89[\"rtt\"].values\n",
    "plt.plot(time, prediction)\n",
    "plt.ylabel('RTT')\n",
    "plt.xlabel('timestamps')\n",
    "plt.title('RTTs recorded for node 89')\n",
    "plt.show()"
   ]
  },
  {
   "cell_type": "markdown",
   "metadata": {},
   "source": [
    "## Analysis of number of suspected nodes with respect to time"
   ]
  },
  {
   "cell_type": "code",
   "execution_count": 16,
   "metadata": {},
   "outputs": [
    {
     "data": {
      "text/html": [
       "<div>\n",
       "<style>\n",
       "    .dataframe thead tr:only-child th {\n",
       "        text-align: right;\n",
       "    }\n",
       "\n",
       "    .dataframe thead th {\n",
       "        text-align: left;\n",
       "    }\n",
       "\n",
       "    .dataframe tbody tr th {\n",
       "        vertical-align: top;\n",
       "    }\n",
       "</style>\n",
       "<table border=\"1\" class=\"dataframe\">\n",
       "  <thead>\n",
       "    <tr style=\"text-align: right;\">\n",
       "      <th></th>\n",
       "      <th>timestamp</th>\n",
       "      <th>numberOfSuspectedNodes</th>\n",
       "    </tr>\n",
       "  </thead>\n",
       "  <tbody>\n",
       "    <tr>\n",
       "      <th>0</th>\n",
       "      <td>1504424862212</td>\n",
       "      <td>0</td>\n",
       "    </tr>\n",
       "    <tr>\n",
       "      <th>1</th>\n",
       "      <td>1504424866440</td>\n",
       "      <td>0</td>\n",
       "    </tr>\n",
       "    <tr>\n",
       "      <th>2</th>\n",
       "      <td>1504424870471</td>\n",
       "      <td>61</td>\n",
       "    </tr>\n",
       "    <tr>\n",
       "      <th>3</th>\n",
       "      <td>1504424874490</td>\n",
       "      <td>20</td>\n",
       "    </tr>\n",
       "    <tr>\n",
       "      <th>4</th>\n",
       "      <td>1504424878510</td>\n",
       "      <td>0</td>\n",
       "    </tr>\n",
       "  </tbody>\n",
       "</table>\n",
       "</div>"
      ],
      "text/plain": [
       "       timestamp  numberOfSuspectedNodes\n",
       "0  1504424862212                       0\n",
       "1  1504424866440                       0\n",
       "2  1504424870471                      61\n",
       "3  1504424874490                      20\n",
       "4  1504424878510                       0"
      ]
     },
     "execution_count": 16,
     "metadata": {},
     "output_type": "execute_result"
    }
   ],
   "source": [
    "suspected_nodes_data = pd.read_csv('../data/backup/stats_mlfd/suspected_nodes.csv')\n",
    "suspected_nodes_data.head()"
   ]
  },
  {
   "cell_type": "code",
   "execution_count": 17,
   "metadata": {},
   "outputs": [
    {
     "data": {
      "image/png": "[encoded data removed]",
      "text/plain": [
       "<matplotlib.figure.Figure at 0x7f1a52f0a8d0>"
      ]
     },
     "metadata": {},
     "output_type": "display_data"
    }
   ],
   "source": [
    "time = suspected_nodes_data[\"timestamp\"].values\n",
    "suspected = suspected_nodes_data[\"numberOfSuspectedNodes\"].values\n",
    "plt.plot(time, suspected)\n",
    "plt.ylabel('number of suspected nodes')\n",
    "plt.xlabel('timestamps')\n",
    "plt.title('number of suspected nodes with respect to time')\n",
    "plt.show()"
   ]
  },
  {
   "cell_type": "code",
   "execution_count": 18,
   "metadata": {
    "collapsed": true
   },
   "outputs": [],
   "source": [
    "node_crashes = pd.read_csv('../data/backup/stats_mlfd/node_crashes.csv')\n",
    "node_suspicions = pd.read_csv('../data/backup/stats_mlfd/node_suspicions.csv')"
   ]
  },
  {
   "cell_type": "code",
   "execution_count": 19,
   "metadata": {
    "collapsed": true
   },
   "outputs": [],
   "source": [
    "node_suspicions = pd.merge(node_suspicions, node_crashes, how=\"inner\", on=\"node\")\n",
    "node_suspicions = node_suspicions.sort_values('suspected', ascending=False).drop_duplicates('node').sort_index()"
   ]
  },
  {
   "cell_type": "code",
   "execution_count": 20,
   "metadata": {
    "collapsed": true
   },
   "outputs": [],
   "source": [
    "node_suspicions[\"detection_time\"] = node_suspicions[\"suspected\"] - node_suspicions[\"timestamp\"]"
   ]
  },
  {
   "cell_type": "code",
   "execution_count": 21,
   "metadata": {
    "collapsed": true
   },
   "outputs": [],
   "source": [
    "node_suspicions = node_suspicions[node_suspicions[\"detection_time\"]>0] #Remove premature suspicion"
   ]
  },
  {
   "cell_type": "code",
   "execution_count": 22,
   "metadata": {},
   "outputs": [
    {
     "data": {
      "text/html": [
       "<div>\n",
       "<style>\n",
       "    .dataframe thead tr:only-child th {\n",
       "        text-align: right;\n",
       "    }\n",
       "\n",
       "    .dataframe thead th {\n",
       "        text-align: left;\n",
       "    }\n",
       "\n",
       "    .dataframe tbody tr th {\n",
       "        vertical-align: top;\n",
       "    }\n",
       "</style>\n",
       "<table border=\"1\" class=\"dataframe\">\n",
       "  <thead>\n",
       "    <tr style=\"text-align: right;\">\n",
       "      <th></th>\n",
       "      <th>node</th>\n",
       "      <th>suspected</th>\n",
       "      <th>timestamp</th>\n",
       "      <th>detection_time</th>\n",
       "    </tr>\n",
       "  </thead>\n",
       "  <tbody>\n",
       "    <tr>\n",
       "      <th>1</th>\n",
       "      <td>91</td>\n",
       "      <td>1504425188050</td>\n",
       "      <td>1504425184031</td>\n",
       "      <td>4019</td>\n",
       "    </tr>\n",
       "    <tr>\n",
       "      <th>3</th>\n",
       "      <td>54</td>\n",
       "      <td>1504425119710</td>\n",
       "      <td>1504425115691</td>\n",
       "      <td>4019</td>\n",
       "    </tr>\n",
       "    <tr>\n",
       "      <th>6</th>\n",
       "      <td>66</td>\n",
       "      <td>1504424999110</td>\n",
       "      <td>1504424995091</td>\n",
       "      <td>4019</td>\n",
       "    </tr>\n",
       "    <tr>\n",
       "      <th>8</th>\n",
       "      <td>97</td>\n",
       "      <td>1504425453370</td>\n",
       "      <td>1504425441311</td>\n",
       "      <td>12059</td>\n",
       "    </tr>\n",
       "    <tr>\n",
       "      <th>10</th>\n",
       "      <td>73</td>\n",
       "      <td>1504424999110</td>\n",
       "      <td>1504424991072</td>\n",
       "      <td>8038</td>\n",
       "    </tr>\n",
       "    <tr>\n",
       "      <th>12</th>\n",
       "      <td>63</td>\n",
       "      <td>1504425401110</td>\n",
       "      <td>1504425393071</td>\n",
       "      <td>8039</td>\n",
       "    </tr>\n",
       "    <tr>\n",
       "      <th>14</th>\n",
       "      <td>74</td>\n",
       "      <td>1504425489550</td>\n",
       "      <td>1504425481511</td>\n",
       "      <td>8039</td>\n",
       "    </tr>\n",
       "    <tr>\n",
       "      <th>15</th>\n",
       "      <td>12</td>\n",
       "      <td>1504424894591</td>\n",
       "      <td>1504424890574</td>\n",
       "      <td>4017</td>\n",
       "    </tr>\n",
       "    <tr>\n",
       "      <th>16</th>\n",
       "      <td>14</td>\n",
       "      <td>1504425316690</td>\n",
       "      <td>1504425312671</td>\n",
       "      <td>4019</td>\n",
       "    </tr>\n",
       "    <tr>\n",
       "      <th>17</th>\n",
       "      <td>22</td>\n",
       "      <td>1504425401110</td>\n",
       "      <td>1504425397092</td>\n",
       "      <td>4018</td>\n",
       "    </tr>\n",
       "    <tr>\n",
       "      <th>18</th>\n",
       "      <td>20</td>\n",
       "      <td>1504425477490</td>\n",
       "      <td>1504425473471</td>\n",
       "      <td>4019</td>\n",
       "    </tr>\n",
       "  </tbody>\n",
       "</table>\n",
       "</div>"
      ],
      "text/plain": [
       "    node      suspected      timestamp  detection_time\n",
       "1     91  1504425188050  1504425184031            4019\n",
       "3     54  1504425119710  1504425115691            4019\n",
       "6     66  1504424999110  1504424995091            4019\n",
       "8     97  1504425453370  1504425441311           12059\n",
       "10    73  1504424999110  1504424991072            8038\n",
       "12    63  1504425401110  1504425393071            8039\n",
       "14    74  1504425489550  1504425481511            8039\n",
       "15    12  1504424894591  1504424890574            4017\n",
       "16    14  1504425316690  1504425312671            4019\n",
       "17    22  1504425401110  1504425397092            4018\n",
       "18    20  1504425477490  1504425473471            4019"
      ]
     },
     "execution_count": 22,
     "metadata": {},
     "output_type": "execute_result"
    }
   ],
   "source": [
    "node_suspicions"
   ]
  },
  {
   "cell_type": "markdown",
   "metadata": {},
   "source": [
    "## Mean RTT per node"
   ]
  },
  {
   "cell_type": "code",
   "execution_count": 23,
   "metadata": {
    "collapsed": true
   },
   "outputs": [],
   "source": [
    "#rtt_data calculate mean per node and merge\n",
    "mean_rtt = rtt_data.groupby(['node', 'rtt'], as_index=False).mean().groupby('node')['rtt'].mean()"
   ]
  },
  {
   "cell_type": "code",
   "execution_count": 24,
   "metadata": {
    "collapsed": true
   },
   "outputs": [],
   "source": [
    "matrix = mean_rtt.as_matrix\n",
    "mean = np.array(mean_rtt)"
   ]
  },
  {
   "cell_type": "code",
   "execution_count": 25,
   "metadata": {},
   "outputs": [
    {
     "data": {
      "image/png": "[encoded data removed]",
      "text/plain": [
       "<matplotlib.figure.Figure at 0x7f1a52ebcac8>"
      ]
     },
     "metadata": {},
     "output_type": "display_data"
    }
   ],
   "source": [
    "plt.plot(mean_rtt)\n",
    "plt.axis([0, 100, 0, 10000])\n",
    "plt.ylabel('Mean-RTT')\n",
    "plt.xlabel('Node')\n",
    "plt.title('Plot of mean RTT per node')\n",
    "plt.show()"
   ]
  },
  {
   "cell_type": "markdown",
   "metadata": {},
   "source": [
    "## False suspicions per timeout"
   ]
  },
  {
   "cell_type": "code",
   "execution_count": 26,
   "metadata": {},
   "outputs": [
    {
     "data": {
      "text/html": [
       "<div>\n",
       "<style>\n",
       "    .dataframe thead tr:only-child th {\n",
       "        text-align: right;\n",
       "    }\n",
       "\n",
       "    .dataframe thead th {\n",
       "        text-align: left;\n",
       "    }\n",
       "\n",
       "    .dataframe tbody tr th {\n",
       "        vertical-align: top;\n",
       "    }\n",
       "</style>\n",
       "<table border=\"1\" class=\"dataframe\">\n",
       "  <thead>\n",
       "    <tr style=\"text-align: right;\">\n",
       "      <th></th>\n",
       "      <th>node</th>\n",
       "    </tr>\n",
       "    <tr>\n",
       "      <th>suspected</th>\n",
       "      <th></th>\n",
       "    </tr>\n",
       "  </thead>\n",
       "  <tbody>\n",
       "    <tr>\n",
       "      <th>1504424866440</th>\n",
       "      <td>61</td>\n",
       "    </tr>\n",
       "  </tbody>\n",
       "</table>\n",
       "</div>"
      ],
      "text/plain": [
       "               node\n",
       "suspected          \n",
       "1504424866440    61"
      ]
     },
     "execution_count": 26,
     "metadata": {},
     "output_type": "execute_result"
    }
   ],
   "source": [
    "node_suspicions2 = pd.read_csv('../data/backup/stats_mlfd/node_suspicions.csv')\n",
    "keys = ['suspected', \"node\"]\n",
    "i1 = node_suspicions2.set_index(keys).index\n",
    "i2 = node_suspicions.set_index(keys).index\n",
    "false_suspicions = node_suspicions2[~i1.isin(i2)]\n",
    "false_suspicions = false_suspicions.groupby(\"suspected\").count()\n",
    "false_suspicions"
   ]
  },
  {
   "cell_type": "code",
   "execution_count": 27,
   "metadata": {},
   "outputs": [
    {
     "data": {
      "image/png": "[encoded data removed]",
      "text/plain": [
       "<matplotlib.figure.Figure at 0x7f1a52ee46d8>"
      ]
     },
     "metadata": {},
     "output_type": "display_data"
    }
   ],
   "source": [
    "mlfd_false_suspicions = false_suspicions.values\n",
    "l = len(mlfd_false_suspicions)\n",
    "width = 0.35\n",
    "error_config = {'ecolor': '0.3'}\n",
    "plt.bar(range(len(mlfd_false_suspicions)), mlfd_false_suspicions, width=width, color='b', error_kw=error_config, label='Timestamp')\n",
    "plt.xlabel('Time')\n",
    "plt.ylabel('Number of false suspicions')\n",
    "plt.title('Number of false suspicions over time')\n",
    "plt.legend()\n",
    "plt.tight_layout()"
   ]
  },
  {
   "cell_type": "code",
   "execution_count": 28,
   "metadata": {},
   "outputs": [
    {
     "data": {
      "text/plain": [
       "array([[61]])"
      ]
     },
     "execution_count": 28,
     "metadata": {},
     "output_type": "execute_result"
    }
   ],
   "source": [
    "false_suspicions.values"
   ]
  },
  {
   "cell_type": "markdown",
   "metadata": {},
   "source": [
    "## Time a node was suspected - time node actually crashed, plotted with respect to mean RTT"
   ]
  },
  {
   "cell_type": "code",
   "execution_count": 28,
   "metadata": {
    "collapsed": true
   },
   "outputs": [],
   "source": [
    "mean_n = np.zeros(len(node_suspicions[\"node\"]))\n",
    "j = 0\n",
    "for i in range(0, len(mean)):\n",
    "    if(i in node_suspicions[\"node\"].values):\n",
    "        #print(i)\n",
    "        mean_n[j] = mean[i]\n",
    "        j = j+1"
   ]
  },
  {
   "cell_type": "code",
   "execution_count": 29,
   "metadata": {},
   "outputs": [
    {
     "data": {
      "image/png": "[encoded data removed]",
      "text/plain": [
       "<matplotlib.figure.Figure at 0x7fca0dc516a0>"
      ]
     },
     "metadata": {},
     "output_type": "display_data"
    }
   ],
   "source": [
    "plt.plot(mean_n, node_suspicions[\"detection_time\"])\n",
    "plt.ylabel('Detection Time')\n",
    "plt.xlabel('Average RTT')\n",
    "plt.title('Detection Time of crashes with respect to average RTT')\n",
    "plt.show()"
   ]
  },
  {
   "cell_type": "markdown",
   "metadata": {},
   "source": [
    "## Implementation of an Offline-model to analyze the data, using Keras+Tensorflow"
   ]
  },
  {
   "cell_type": "code",
   "execution_count": 30,
   "metadata": {},
   "outputs": [
    {
     "name": "stderr",
     "output_type": "stream",
     "text": [
      "Using TensorFlow backend.\n"
     ]
    }
   ],
   "source": [
    "from keras.models import Sequential\n",
    "from keras.layers import Dense\n",
    "from sklearn.metrics import r2_score\n",
    "\n",
    "mean_geo_data = rtt_data.drop([\"node\", \"timestamp\"], 1)\n",
    "#mean_geo_data = mean_geo_data[[\"geoLocation\",\"rtt\",\"mean\"]].apply(pd.to_numeric)\n",
    "df_train, df_test = np.split(mean_geo_data.sample(frac=1), [int(.8*len(mean_geo_data))])\n",
    "Y_train = df_train[\"rtt\"].values\n",
    "Y_test = df_test[\"rtt\"].values\n",
    "X_train = df_train.drop(\"rtt\", 1).values\n",
    "X_test = df_test.drop(\"rtt\", 1).values"
   ]
  },
  {
   "cell_type": "code",
   "execution_count": 31,
   "metadata": {},
   "outputs": [
    {
     "data": {
      "text/html": [
       "<div>\n",
       "<style>\n",
       "    .dataframe thead tr:only-child th {\n",
       "        text-align: right;\n",
       "    }\n",
       "\n",
       "    .dataframe thead th {\n",
       "        text-align: left;\n",
       "    }\n",
       "\n",
       "    .dataframe tbody tr th {\n",
       "        vertical-align: top;\n",
       "    }\n",
       "</style>\n",
       "<table border=\"1\" class=\"dataframe\">\n",
       "  <thead>\n",
       "    <tr style=\"text-align: right;\">\n",
       "      <th></th>\n",
       "      <th>geoLocation</th>\n",
       "      <th>rtt</th>\n",
       "      <th>mean</th>\n",
       "    </tr>\n",
       "  </thead>\n",
       "  <tbody>\n",
       "    <tr>\n",
       "      <th>0</th>\n",
       "      <td>0</td>\n",
       "      <td>270.0</td>\n",
       "      <td>270.0</td>\n",
       "    </tr>\n",
       "    <tr>\n",
       "      <th>1</th>\n",
       "      <td>1</td>\n",
       "      <td>338.0</td>\n",
       "      <td>338.0</td>\n",
       "    </tr>\n",
       "    <tr>\n",
       "      <th>2</th>\n",
       "      <td>2</td>\n",
       "      <td>548.0</td>\n",
       "      <td>548.0</td>\n",
       "    </tr>\n",
       "    <tr>\n",
       "      <th>3</th>\n",
       "      <td>3</td>\n",
       "      <td>599.0</td>\n",
       "      <td>599.0</td>\n",
       "    </tr>\n",
       "    <tr>\n",
       "      <th>4</th>\n",
       "      <td>4</td>\n",
       "      <td>648.0</td>\n",
       "      <td>648.0</td>\n",
       "    </tr>\n",
       "  </tbody>\n",
       "</table>\n",
       "</div>"
      ],
      "text/plain": [
       "   geoLocation    rtt   mean\n",
       "0            0  270.0  270.0\n",
       "1            1  338.0  338.0\n",
       "2            2  548.0  548.0\n",
       "3            3  599.0  599.0\n",
       "4            4  648.0  648.0"
      ]
     },
     "execution_count": 31,
     "metadata": {},
     "output_type": "execute_result"
    }
   ],
   "source": [
    "mean_geo_data.head()"
   ]
  },
  {
   "cell_type": "code",
   "execution_count": 32,
   "metadata": {},
   "outputs": [
    {
     "name": "stderr",
     "output_type": "stream",
     "text": [
      "/home/limmen/anaconda3/lib/python3.6/site-packages/ipykernel_launcher.py:3: UserWarning: Update your `Dense` call to the Keras 2 API: `Dense(20, input_dim=2, activation=\"tanh\", kernel_initializer=\"uniform\")`\n",
      "  This is separate from the ipykernel package so we can avoid doing imports until\n",
      "/home/limmen/anaconda3/lib/python3.6/site-packages/ipykernel_launcher.py:4: UserWarning: Update your `Dense` call to the Keras 2 API: `Dense(1, activation=\"linear\", kernel_initializer=\"uniform\")`\n",
      "  after removing the cwd from sys.path.\n",
      "/home/limmen/anaconda3/lib/python3.6/site-packages/keras/models.py:844: UserWarning: The `nb_epoch` argument in `fit` has been renamed `epochs`.\n",
      "  warnings.warn('The `nb_epoch` argument in `fit` '\n"
     ]
    }
   ],
   "source": [
    "# create model\n",
    "model = Sequential()\n",
    "model.add(Dense(20, input_dim=2, init='uniform', activation='tanh'))\n",
    "model.add(Dense(1, init='uniform', activation='linear'))\n",
    "\n",
    "# Compile model\n",
    "model.compile(loss='mse', optimizer='adam', metrics=['accuracy'])\n",
    "\n",
    "# Fit the model\n",
    "model.fit(X_train, Y_train, nb_epoch=1000, batch_size=10,  verbose=0)\n",
    "\n",
    "# Calculate predictions\n",
    "PredTestSet = model.predict(X_train)\n",
    "PredValSet = model.predict(X_test)\n",
    "\n",
    "# Save predictions\n",
    "np.savetxt(\"trainresults.csv\", PredTestSet, delimiter=\",\")\n",
    "np.savetxt(\"valresults.csv\", PredValSet, delimiter=\",\")"
   ]
  },
  {
   "cell_type": "code",
   "execution_count": 33,
   "metadata": {},
   "outputs": [
    {
     "name": "stdout",
     "output_type": "stream",
     "text": [
      "Training Set R-Square= -7.45569161964e-09\n"
     ]
    },
    {
     "data": {
      "image/png": "[encoded data removed]",
      "text/plain": [
       "<matplotlib.figure.Figure at 0x7fc9f82dbf60>"
      ]
     },
     "metadata": {},
     "output_type": "display_data"
    }
   ],
   "source": [
    "#Plot actual vs predition for training set\n",
    "TestResults = np.genfromtxt(\"trainresults.csv\", delimiter=\",\")\n",
    "plt.plot(Y_train,TestResults,'ro')\n",
    "\n",
    "#Compute R-Square value for training set\n",
    "TestR2Value = r2_score(Y_train,TestResults)\n",
    "print(\"Training Set R-Square=\", TestR2Value)"
   ]
  },
  {
   "cell_type": "code",
   "execution_count": 34,
   "metadata": {},
   "outputs": [
    {
     "data": {
      "image/png": "[encoded data removed]",
      "text/plain": [
       "<matplotlib.figure.Figure at 0x7fca0db86828>"
      ]
     },
     "metadata": {},
     "output_type": "display_data"
    }
   ],
   "source": [
    "plt.scatter(Y_train, TestResults,color=[\"red\", \"blue\"])\n",
    "plt.show()"
   ]
  },
  {
   "cell_type": "markdown",
   "metadata": {},
   "source": [
    "## Another offline model, using sklearn"
   ]
  },
  {
   "cell_type": "code",
   "execution_count": 35,
   "metadata": {
    "collapsed": true
   },
   "outputs": [],
   "source": [
    "from sklearn.model_selection import cross_val_predict\n",
    "from sklearn import linear_model\n",
    "\n",
    "lr = linear_model.LinearRegression()\n",
    "\n",
    "predicted = cross_val_predict(lr, X_train, Y_train, cv=10)"
   ]
  },
  {
   "cell_type": "code",
   "execution_count": 36,
   "metadata": {},
   "outputs": [
    {
     "data": {
      "image/png": "[encoded data removed]",
      "text/plain": [
       "<matplotlib.figure.Figure at 0x7fc9ec00c080>"
      ]
     },
     "metadata": {},
     "output_type": "display_data"
    }
   ],
   "source": [
    "fig, ax = plt.subplots()\n",
    "ax.scatter(Y_train, predicted, edgecolors=(0, 0, 0))\n",
    "ax.plot([Y_train.min(), Y_train.max()], [Y_train.min(), Y_train.max()], 'k--', lw=4)\n",
    "ax.set_xlabel('Measured')\n",
    "ax.set_ylabel('Predicted')\n",
    "plt.show()"
   ]
  },
  {
   "cell_type": "markdown",
   "metadata": {},
   "source": [
    "## Comparison MLFD vs EPFD"
   ]
  },
  {
   "cell_type": "code",
   "execution_count": 37,
   "metadata": {},
   "outputs": [
    {
     "data": {
      "text/html": [
       "<div>\n",
       "<style>\n",
       "    .dataframe thead tr:only-child th {\n",
       "        text-align: right;\n",
       "    }\n",
       "\n",
       "    .dataframe thead th {\n",
       "        text-align: left;\n",
       "    }\n",
       "\n",
       "    .dataframe tbody tr th {\n",
       "        vertical-align: top;\n",
       "    }\n",
       "</style>\n",
       "<table border=\"1\" class=\"dataframe\">\n",
       "  <thead>\n",
       "    <tr style=\"text-align: right;\">\n",
       "      <th></th>\n",
       "      <th>node</th>\n",
       "      <th>suspected</th>\n",
       "      <th>timestamp</th>\n",
       "      <th>detection_time</th>\n",
       "    </tr>\n",
       "  </thead>\n",
       "  <tbody>\n",
       "    <tr>\n",
       "      <th>4</th>\n",
       "      <td>45</td>\n",
       "      <td>1504433437756</td>\n",
       "      <td>1504433427237</td>\n",
       "      <td>10519</td>\n",
       "    </tr>\n",
       "    <tr>\n",
       "      <th>11</th>\n",
       "      <td>79</td>\n",
       "      <td>1504433921665</td>\n",
       "      <td>1504433911146</td>\n",
       "      <td>10519</td>\n",
       "    </tr>\n",
       "    <tr>\n",
       "      <th>15</th>\n",
       "      <td>42</td>\n",
       "      <td>1504433479836</td>\n",
       "      <td>1504433469317</td>\n",
       "      <td>10519</td>\n",
       "    </tr>\n",
       "    <tr>\n",
       "      <th>22</th>\n",
       "      <td>78</td>\n",
       "      <td>1504433574516</td>\n",
       "      <td>1504433563996</td>\n",
       "      <td>10520</td>\n",
       "    </tr>\n",
       "    <tr>\n",
       "      <th>25</th>\n",
       "      <td>20</td>\n",
       "      <td>1504433490356</td>\n",
       "      <td>1504433479836</td>\n",
       "      <td>10520</td>\n",
       "    </tr>\n",
       "    <tr>\n",
       "      <th>27</th>\n",
       "      <td>4</td>\n",
       "      <td>1504433711275</td>\n",
       "      <td>1504433700756</td>\n",
       "      <td>10519</td>\n",
       "    </tr>\n",
       "    <tr>\n",
       "      <th>33</th>\n",
       "      <td>71</td>\n",
       "      <td>1504433490356</td>\n",
       "      <td>1504433479836</td>\n",
       "      <td>10520</td>\n",
       "    </tr>\n",
       "    <tr>\n",
       "      <th>41</th>\n",
       "      <td>92</td>\n",
       "      <td>1504433753356</td>\n",
       "      <td>1504433742836</td>\n",
       "      <td>10520</td>\n",
       "    </tr>\n",
       "    <tr>\n",
       "      <th>45</th>\n",
       "      <td>34</td>\n",
       "      <td>1504433183715</td>\n",
       "      <td>1504433178697</td>\n",
       "      <td>5018</td>\n",
       "    </tr>\n",
       "  </tbody>\n",
       "</table>\n",
       "</div>"
      ],
      "text/plain": [
       "    node      suspected      timestamp  detection_time\n",
       "4     45  1504433437756  1504433427237           10519\n",
       "11    79  1504433921665  1504433911146           10519\n",
       "15    42  1504433479836  1504433469317           10519\n",
       "22    78  1504433574516  1504433563996           10520\n",
       "25    20  1504433490356  1504433479836           10520\n",
       "27     4  1504433711275  1504433700756           10519\n",
       "33    71  1504433490356  1504433479836           10520\n",
       "41    92  1504433753356  1504433742836           10520\n",
       "45    34  1504433183715  1504433178697            5018"
      ]
     },
     "execution_count": 37,
     "metadata": {},
     "output_type": "execute_result"
    }
   ],
   "source": [
    "node_crashes_epfd = pd.read_csv('../data/backup/stats_epfd/node_crashes.csv')\n",
    "node_suspicions_epfd = pd.read_csv('../data/backup/stats_epfd/node_suspicions.csv')\n",
    "node_suspicions_epfd\n",
    "node_suspicions_epfd = pd.merge(node_suspicions_epfd, node_crashes_epfd, how=\"inner\", on=\"node\")\n",
    "node_suspicions_epfd = node_suspicions_epfd.sort_values('suspected', ascending=False).drop_duplicates('node').sort_index()\n",
    "node_suspicions_epfd[\"detection_time\"] = node_suspicions_epfd[\"suspected\"] - node_suspicions_epfd[\"timestamp\"]\n",
    "node_suspicions = node_suspicions[node_suspicions[\"detection_time\"]>0] #Remove premature suspicion\n",
    "node_suspicions_epfd"
   ]
  },
  {
   "cell_type": "code",
   "execution_count": 38,
   "metadata": {
    "collapsed": true
   },
   "outputs": [],
   "source": [
    "#rtt_data calculate mean per node and merge\n",
    "mean_rtt_epfd = rtt_data.groupby(['node', 'rtt'], as_index=False).mean().groupby('node')['rtt'].mean()\n",
    "matrix_epfd = mean_rtt.as_matrix\n",
    "mean_epfd = np.array(mean_rtt_epfd)"
   ]
  },
  {
   "cell_type": "code",
   "execution_count": 39,
   "metadata": {
    "collapsed": true
   },
   "outputs": [],
   "source": [
    "mean_n_epfd = np.zeros(len(node_suspicions_epfd[\"node\"]))\n",
    "j = 0\n",
    "for i in range(0, len(mean)):\n",
    "    if(i in node_suspicions_epfd[\"node\"].values):\n",
    "        #print(i)\n",
    "        mean_n_epfd[j] = mean_epfd[i]\n",
    "        j = j+1"
   ]
  },
  {
   "cell_type": "code",
   "execution_count": 40,
   "metadata": {},
   "outputs": [
    {
     "data": {
      "image/png": "[encoded data removed]",
      "text/plain": [
       "<matplotlib.figure.Figure at 0x7fc9f4121588>"
      ]
     },
     "metadata": {},
     "output_type": "display_data"
    }
   ],
   "source": [
    "plt.plot(mean_n_epfd, node_suspicions_epfd[\"detection_time\"], label=\"EPFD\")\n",
    "plt.plot(mean_n, node_suspicions[\"detection_time\"], label=\"MLFD\")\n",
    "plt.ylabel('Detection Time')\n",
    "plt.xlabel('Average RTT')\n",
    "plt.title('Detection Time of crashes with respect to average RTT')\n",
    "plt.legend()\n",
    "plt.show()"
   ]
  },
  {
   "cell_type": "code",
   "execution_count": 41,
   "metadata": {},
   "outputs": [
    {
     "data": {
      "text/html": [
       "<div>\n",
       "<style>\n",
       "    .dataframe thead tr:only-child th {\n",
       "        text-align: right;\n",
       "    }\n",
       "\n",
       "    .dataframe thead th {\n",
       "        text-align: left;\n",
       "    }\n",
       "\n",
       "    .dataframe tbody tr th {\n",
       "        vertical-align: top;\n",
       "    }\n",
       "</style>\n",
       "<table border=\"1\" class=\"dataframe\">\n",
       "  <thead>\n",
       "    <tr style=\"text-align: right;\">\n",
       "      <th></th>\n",
       "      <th>node</th>\n",
       "    </tr>\n",
       "    <tr>\n",
       "      <th>suspected</th>\n",
       "      <th></th>\n",
       "    </tr>\n",
       "  </thead>\n",
       "  <tbody>\n",
       "    <tr>\n",
       "      <th>1504433156016</th>\n",
       "      <td>96</td>\n",
       "    </tr>\n",
       "    <tr>\n",
       "      <th>1504433159076</th>\n",
       "      <td>5</td>\n",
       "    </tr>\n",
       "    <tr>\n",
       "      <th>1504433161096</th>\n",
       "      <td>17</td>\n",
       "    </tr>\n",
       "    <tr>\n",
       "      <th>1504433163616</th>\n",
       "      <td>20</td>\n",
       "    </tr>\n",
       "    <tr>\n",
       "      <th>1504433166636</th>\n",
       "      <td>31</td>\n",
       "    </tr>\n",
       "    <tr>\n",
       "      <th>1504433170156</th>\n",
       "      <td>39</td>\n",
       "    </tr>\n",
       "    <tr>\n",
       "      <th>1504433174176</th>\n",
       "      <td>10</td>\n",
       "    </tr>\n",
       "    <tr>\n",
       "      <th>1504433178696</th>\n",
       "      <td>25</td>\n",
       "    </tr>\n",
       "    <tr>\n",
       "      <th>1504433183715</th>\n",
       "      <td>30</td>\n",
       "    </tr>\n",
       "    <tr>\n",
       "      <th>1504433189236</th>\n",
       "      <td>16</td>\n",
       "    </tr>\n",
       "    <tr>\n",
       "      <th>1504433195256</th>\n",
       "      <td>25</td>\n",
       "    </tr>\n",
       "    <tr>\n",
       "      <th>1504433201776</th>\n",
       "      <td>15</td>\n",
       "    </tr>\n",
       "    <tr>\n",
       "      <th>1504433208796</th>\n",
       "      <td>20</td>\n",
       "    </tr>\n",
       "    <tr>\n",
       "      <th>1504433216315</th>\n",
       "      <td>6</td>\n",
       "    </tr>\n",
       "    <tr>\n",
       "      <th>1504433224336</th>\n",
       "      <td>20</td>\n",
       "    </tr>\n",
       "    <tr>\n",
       "      <th>1504433241876</th>\n",
       "      <td>11</td>\n",
       "    </tr>\n",
       "    <tr>\n",
       "      <th>1504433260416</th>\n",
       "      <td>5</td>\n",
       "    </tr>\n",
       "    <tr>\n",
       "      <th>1504433269936</th>\n",
       "      <td>1</td>\n",
       "    </tr>\n",
       "  </tbody>\n",
       "</table>\n",
       "</div>"
      ],
      "text/plain": [
       "               node\n",
       "suspected          \n",
       "1504433156016    96\n",
       "1504433159076     5\n",
       "1504433161096    17\n",
       "1504433163616    20\n",
       "1504433166636    31\n",
       "1504433170156    39\n",
       "1504433174176    10\n",
       "1504433178696    25\n",
       "1504433183715    30\n",
       "1504433189236    16\n",
       "1504433195256    25\n",
       "1504433201776    15\n",
       "1504433208796    20\n",
       "1504433216315     6\n",
       "1504433224336    20\n",
       "1504433241876    11\n",
       "1504433260416     5\n",
       "1504433269936     1"
      ]
     },
     "execution_count": 41,
     "metadata": {},
     "output_type": "execute_result"
    }
   ],
   "source": [
    "node_suspicions2_epfd = pd.read_csv('../data/backup/stats_epfd/node_suspicions.csv')\n",
    "keys_epfd = ['suspected', \"node\"]\n",
    "i1_epfd = node_suspicions2_epfd.set_index(keys_epfd).index\n",
    "i2_epfd = node_suspicions_epfd.set_index(keys_epfd).index\n",
    "false_suspicions_epfd = node_suspicions2_epfd[~i1_epfd.isin(i2_epfd)]\n",
    "false_suspicions_epfd = false_suspicions_epfd.groupby(\"suspected\").count()\n",
    "false_suspicions_epfd"
   ]
  },
  {
   "cell_type": "code",
   "execution_count": 42,
   "metadata": {},
   "outputs": [
    {
     "data": {
      "image/png": "[encoded data removed]",
      "text/plain": [
       "<matplotlib.figure.Figure at 0x7fc9ec7b8e10>"
      ]
     },
     "metadata": {},
     "output_type": "display_data"
    }
   ],
   "source": [
    "epfd_false_suspicions = false_suspicions_epfd.values\n",
    "l = len(epfd_false_suspicions)\n",
    "width = 0.35\n",
    "error_config = {'ecolor': '0.3'}\n",
    "plt.bar(range(len(epfd_false_suspicions)), epfd_false_suspicions, width=width, color='b', error_kw=error_config, label='Timestamp')\n",
    "plt.xlabel('Time')\n",
    "plt.ylabel('Number of false suspicions')\n",
    "plt.title('Number of false suspicions over time')\n",
    "plt.legend()\n",
    "plt.tight_layout()"
   ]
  },
  {
   "cell_type": "code",
   "execution_count": 43,
   "metadata": {},
   "outputs": [
    {
     "data": {
      "image/png": "[encoded data removed]",
      "text/plain": [
       "<matplotlib.figure.Figure at 0x7fc9cd28ee48>"
      ]
     },
     "metadata": {},
     "output_type": "display_data"
    }
   ],
   "source": [
    "bar_width = 0.45\n",
    "index1 = np.arange(l)\n",
    "index2 = np.arange(len(mlfd_false_suspicions))\n",
    "plt.bar(index2, mlfd_false_suspicions, width=width, color='r', error_kw=error_config, label='MLFD')\n",
    "plt.bar(index1 + bar_width, epfd_false_suspicions, width=width, color='b', error_kw=error_config, label='EPFD')\n",
    "plt.xlabel('Time')\n",
    "plt.ylabel('Number of false suspicions')\n",
    "plt.title('Number of false suspicions over time')\n",
    "plt.legend()\n",
    "plt.xticks(index1 + bar_width, ('MLFD', 'EPFD'))\n",
    "plt.tight_layout()"
   ]
  },
  {
   "cell_type": "code",
   "execution_count": null,
   "metadata": {
    "collapsed": true
   },
   "outputs": [],
   "source": []
  }
 ],
 "metadata": {
  "kernelspec": {
   "display_name": "Python 3",
   "language": "python",
   "name": "python3"
  },
  "language_info": {
   "codemirror_mode": {
    "name": "ipython",
    "version": 3
   },
   "file_extension": ".py",
   "mimetype": "text/x-python",
   "name": "python",
   "nbconvert_exporter": "python",
   "pygments_lexer": "ipython3",
   "version": "3.6.1"
  }
 },
 "nbformat": 4,
 "nbformat_minor": 2
}
