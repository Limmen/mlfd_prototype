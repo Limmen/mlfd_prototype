{
 "cells": [
  {
   "cell_type": "code",
   "execution_count": 33,
   "metadata": {
    "collapsed": true
   },
   "outputs": [],
   "source": [
    "import pandas as pd\n",
    "import numpy as np\n",
    "import matplotlib.pyplot as plt\n",
    "import math\n",
    "%matplotlib inline"
   ]
  },
  {
   "cell_type": "code",
   "execution_count": 34,
   "metadata": {
    "scrolled": true
   },
   "outputs": [
    {
     "data": {
      "text/html": [
       "<div>\n",
       "<style>\n",
       "    .dataframe thead tr:only-child th {\n",
       "        text-align: right;\n",
       "    }\n",
       "\n",
       "    .dataframe thead th {\n",
       "        text-align: left;\n",
       "    }\n",
       "\n",
       "    .dataframe tbody tr th {\n",
       "        vertical-align: top;\n",
       "    }\n",
       "</style>\n",
       "<table border=\"1\" class=\"dataframe\">\n",
       "  <thead>\n",
       "    <tr style=\"text-align: right;\">\n",
       "      <th></th>\n",
       "      <th>test</th>\n",
       "      <th>workersCount</th>\n",
       "      <th>locationsCount</th>\n",
       "      <th>sampleSize</th>\n",
       "      <th>defaultMean</th>\n",
       "      <th>hbTimeout</th>\n",
       "      <th>stdDevCount</th>\n",
       "      <th>geoFactor</th>\n",
       "      <th>crashProb</th>\n",
       "      <th>delta</th>\n",
       "      <th>...</th>\n",
       "      <th>learningRate</th>\n",
       "      <th>regParam</th>\n",
       "      <th>numIterations</th>\n",
       "      <th>messageLossProb</th>\n",
       "      <th>stdevMargin</th>\n",
       "      <th>stdevFactor</th>\n",
       "      <th>pattern</th>\n",
       "      <th>rand</th>\n",
       "      <th>averageDetectiontime</th>\n",
       "      <th>mistakeRate</th>\n",
       "    </tr>\n",
       "  </thead>\n",
       "  <tbody>\n",
       "    <tr>\n",
       "      <th>0</th>\n",
       "      <td>epfd_test</td>\n",
       "      <td>100</td>\n",
       "      <td>20</td>\n",
       "      <td>nil</td>\n",
       "      <td>nil</td>\n",
       "      <td>2 seconds</td>\n",
       "      <td>30</td>\n",
       "      <td>50.0</td>\n",
       "      <td>0.001</td>\n",
       "      <td>100</td>\n",
       "      <td>...</td>\n",
       "      <td>nil</td>\n",
       "      <td>nil</td>\n",
       "      <td>nil</td>\n",
       "      <td>0.01</td>\n",
       "      <td>nil</td>\n",
       "      <td>100.0</td>\n",
       "      <td>True</td>\n",
       "      <td>False</td>\n",
       "      <td>2380.607143</td>\n",
       "      <td>1.090000</td>\n",
       "    </tr>\n",
       "    <tr>\n",
       "      <th>1</th>\n",
       "      <td>epfd_test</td>\n",
       "      <td>100</td>\n",
       "      <td>20</td>\n",
       "      <td>nil</td>\n",
       "      <td>nil</td>\n",
       "      <td>2 seconds</td>\n",
       "      <td>30</td>\n",
       "      <td>50.0</td>\n",
       "      <td>0.001</td>\n",
       "      <td>500</td>\n",
       "      <td>...</td>\n",
       "      <td>nil</td>\n",
       "      <td>nil</td>\n",
       "      <td>nil</td>\n",
       "      <td>0.01</td>\n",
       "      <td>nil</td>\n",
       "      <td>100.0</td>\n",
       "      <td>True</td>\n",
       "      <td>False</td>\n",
       "      <td>17057.888889</td>\n",
       "      <td>0.495000</td>\n",
       "    </tr>\n",
       "    <tr>\n",
       "      <th>2</th>\n",
       "      <td>epfd_test</td>\n",
       "      <td>100</td>\n",
       "      <td>20</td>\n",
       "      <td>nil</td>\n",
       "      <td>nil</td>\n",
       "      <td>2 seconds</td>\n",
       "      <td>30</td>\n",
       "      <td>50.0</td>\n",
       "      <td>0.001</td>\n",
       "      <td>1000</td>\n",
       "      <td>...</td>\n",
       "      <td>nil</td>\n",
       "      <td>nil</td>\n",
       "      <td>nil</td>\n",
       "      <td>0.01</td>\n",
       "      <td>nil</td>\n",
       "      <td>100.0</td>\n",
       "      <td>True</td>\n",
       "      <td>False</td>\n",
       "      <td>29476.370370</td>\n",
       "      <td>0.343333</td>\n",
       "    </tr>\n",
       "    <tr>\n",
       "      <th>3</th>\n",
       "      <td>epfd_test</td>\n",
       "      <td>100</td>\n",
       "      <td>20</td>\n",
       "      <td>nil</td>\n",
       "      <td>nil</td>\n",
       "      <td>2 seconds</td>\n",
       "      <td>30</td>\n",
       "      <td>50.0</td>\n",
       "      <td>0.001</td>\n",
       "      <td>2000</td>\n",
       "      <td>...</td>\n",
       "      <td>nil</td>\n",
       "      <td>nil</td>\n",
       "      <td>nil</td>\n",
       "      <td>0.01</td>\n",
       "      <td>nil</td>\n",
       "      <td>100.0</td>\n",
       "      <td>True</td>\n",
       "      <td>False</td>\n",
       "      <td>47356.000000</td>\n",
       "      <td>0.233333</td>\n",
       "    </tr>\n",
       "    <tr>\n",
       "      <th>4</th>\n",
       "      <td>epfd_test</td>\n",
       "      <td>100</td>\n",
       "      <td>20</td>\n",
       "      <td>nil</td>\n",
       "      <td>nil</td>\n",
       "      <td>2 seconds</td>\n",
       "      <td>30</td>\n",
       "      <td>50.0</td>\n",
       "      <td>0.001</td>\n",
       "      <td>5000</td>\n",
       "      <td>...</td>\n",
       "      <td>nil</td>\n",
       "      <td>nil</td>\n",
       "      <td>nil</td>\n",
       "      <td>0.01</td>\n",
       "      <td>nil</td>\n",
       "      <td>100.0</td>\n",
       "      <td>True</td>\n",
       "      <td>False</td>\n",
       "      <td>80349.185185</td>\n",
       "      <td>0.435000</td>\n",
       "    </tr>\n",
       "  </tbody>\n",
       "</table>\n",
       "<p>5 rows × 24 columns</p>\n",
       "</div>"
      ],
      "text/plain": [
       "        test  workersCount  locationsCount sampleSize defaultMean  hbTimeout  \\\n",
       "0  epfd_test           100              20        nil         nil  2 seconds   \n",
       "1  epfd_test           100              20        nil         nil  2 seconds   \n",
       "2  epfd_test           100              20        nil         nil  2 seconds   \n",
       "3  epfd_test           100              20        nil         nil  2 seconds   \n",
       "4  epfd_test           100              20        nil         nil  2 seconds   \n",
       "\n",
       "   stdDevCount  geoFactor  crashProb  delta     ...      learningRate  \\\n",
       "0           30       50.0      0.001    100     ...               nil   \n",
       "1           30       50.0      0.001    500     ...               nil   \n",
       "2           30       50.0      0.001   1000     ...               nil   \n",
       "3           30       50.0      0.001   2000     ...               nil   \n",
       "4           30       50.0      0.001   5000     ...               nil   \n",
       "\n",
       "   regParam  numIterations messageLossProb stdevMargin stdevFactor pattern  \\\n",
       "0       nil            nil            0.01         nil       100.0    True   \n",
       "1       nil            nil            0.01         nil       100.0    True   \n",
       "2       nil            nil            0.01         nil       100.0    True   \n",
       "3       nil            nil            0.01         nil       100.0    True   \n",
       "4       nil            nil            0.01         nil       100.0    True   \n",
       "\n",
       "    rand averageDetectiontime  mistakeRate  \n",
       "0  False          2380.607143     1.090000  \n",
       "1  False         17057.888889     0.495000  \n",
       "2  False         29476.370370     0.343333  \n",
       "3  False         47356.000000     0.233333  \n",
       "4  False         80349.185185     0.435000  \n",
       "\n",
       "[5 rows x 24 columns]"
      ]
     },
     "execution_count": 34,
     "metadata": {},
     "output_type": "execute_result"
    }
   ],
   "source": [
    "test_info = pd.read_csv(\"./test_info.csv\")\n",
    "test_info"
   ]
  },
  {
   "cell_type": "markdown",
   "metadata": {
    "collapsed": true
   },
   "source": [
    "## Compare effect on FD QoS metrics when changing the accuracy-parameter "
   ]
  },
  {
   "cell_type": "code",
   "execution_count": 35,
   "metadata": {
    "scrolled": true
   },
   "outputs": [
    {
     "data": {
      "image/png": "[encoded data removed]",
      "text/plain": [
       "<matplotlib.figure.Figure at 0x7f2aff2f85c0>"
      ]
     },
     "metadata": {},
     "output_type": "display_data"
    }
   ],
   "source": [
    "detect_sample = test_info.loc[:,[\"delta\", \"averageDetectiontime\"]]\n",
    "time = detect_sample[\"delta\"].values\n",
    "nodes = detect_sample[\"averageDetectiontime\"].values\n",
    "plt.plot(time, nodes)\n",
    "plt.ylabel('Average detection time')\n",
    "plt.xlabel('Delta: milliseconds to increase timeout of EPFD for each false suspicion')\n",
    "plt.title('Average detection time with respect to delta of EPFD')\n",
    "plt.show()"
   ]
  },
  {
   "cell_type": "code",
   "execution_count": 36,
   "metadata": {},
   "outputs": [
    {
     "data": {
      "image/png": "[encoded data removed]",
      "text/plain": [
       "<matplotlib.figure.Figure at 0x7f2aff418400>"
      ]
     },
     "metadata": {},
     "output_type": "display_data"
    }
   ],
   "source": [
    "detect_sample = test_info.loc[:,[\"delta\", \"mistakeRate\"]]\n",
    "time = detect_sample[\"delta\"].values\n",
    "nodes = detect_sample[\"mistakeRate\"].values\n",
    "plt.plot(time, nodes)\n",
    "plt.ylabel('mistakeRate (mistake/s)')\n",
    "plt.xlabel('Delta: milliseconds to increase timeout of EPFD for each false suspicion')\n",
    "plt.title('Mistakerate with respect to delta of EPFD')\n",
    "plt.show()"
   ]
  },
  {
   "cell_type": "code",
   "execution_count": null,
   "metadata": {
    "collapsed": true
   },
   "outputs": [],
   "source": []
  },
  {
   "cell_type": "code",
   "execution_count": null,
   "metadata": {
    "collapsed": true
   },
   "outputs": [],
   "source": []
  }
 ],
 "metadata": {
  "kernelspec": {
   "display_name": "Python 3",
   "language": "python",
   "name": "python3"
  },
  "language_info": {
   "codemirror_mode": {
    "name": "ipython",
    "version": 3
   },
   "file_extension": ".py",
   "mimetype": "text/x-python",
   "name": "python",
   "nbconvert_exporter": "python",
   "pygments_lexer": "ipython3",
   "version": "3.6.1"
  }
 },
 "nbformat": 4,
 "nbformat_minor": 2
}
