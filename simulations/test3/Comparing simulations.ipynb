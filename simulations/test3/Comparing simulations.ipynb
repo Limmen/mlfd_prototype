{
 "cells": [
  {
   "cell_type": "code",
   "execution_count": 19,
   "metadata": {
    "collapsed": true
   },
   "outputs": [],
   "source": [
    "import pandas as pd\n",
    "import numpy as np\n",
    "import matplotlib.pyplot as plt\n",
    "import math\n",
    "%matplotlib inline"
   ]
  },
  {
   "cell_type": "code",
   "execution_count": 20,
   "metadata": {
    "scrolled": true
   },
   "outputs": [
    {
     "data": {
      "text/html": [
       "<div>\n",
       "<style>\n",
       "    .dataframe thead tr:only-child th {\n",
       "        text-align: right;\n",
       "    }\n",
       "\n",
       "    .dataframe thead th {\n",
       "        text-align: left;\n",
       "    }\n",
       "\n",
       "    .dataframe tbody tr th {\n",
       "        vertical-align: top;\n",
       "    }\n",
       "</style>\n",
       "<table border=\"1\" class=\"dataframe\">\n",
       "  <thead>\n",
       "    <tr style=\"text-align: right;\">\n",
       "      <th></th>\n",
       "      <th>test</th>\n",
       "      <th>workersCount</th>\n",
       "      <th>locationsCount</th>\n",
       "      <th>sampleSize</th>\n",
       "      <th>defaultMean</th>\n",
       "      <th>hbTimeout</th>\n",
       "      <th>stdDevCount</th>\n",
       "      <th>geoFactor</th>\n",
       "      <th>crashProb</th>\n",
       "      <th>delta</th>\n",
       "      <th>...</th>\n",
       "      <th>learningRate</th>\n",
       "      <th>regParam</th>\n",
       "      <th>numIterations</th>\n",
       "      <th>messageLossProb</th>\n",
       "      <th>stdevMargin</th>\n",
       "      <th>stdevFactor</th>\n",
       "      <th>pattern</th>\n",
       "      <th>rand</th>\n",
       "      <th>averageDetectiontime</th>\n",
       "      <th>mistakeRate</th>\n",
       "    </tr>\n",
       "  </thead>\n",
       "  <tbody>\n",
       "    <tr>\n",
       "      <th>0</th>\n",
       "      <td>mlfd_test</td>\n",
       "      <td>100</td>\n",
       "      <td>20</td>\n",
       "      <td>200</td>\n",
       "      <td>3000.0</td>\n",
       "      <td>2 seconds</td>\n",
       "      <td>30</td>\n",
       "      <td>50.0</td>\n",
       "      <td>0.001</td>\n",
       "      <td>nil</td>\n",
       "      <td>...</td>\n",
       "      <td>1.000000e-10</td>\n",
       "      <td>0.3</td>\n",
       "      <td>10</td>\n",
       "      <td>0.01</td>\n",
       "      <td>0.0</td>\n",
       "      <td>100.0</td>\n",
       "      <td>True</td>\n",
       "      <td>False</td>\n",
       "      <td>21353.178571</td>\n",
       "      <td>1.563333</td>\n",
       "    </tr>\n",
       "    <tr>\n",
       "      <th>1</th>\n",
       "      <td>mlfd_test</td>\n",
       "      <td>100</td>\n",
       "      <td>20</td>\n",
       "      <td>200</td>\n",
       "      <td>3000.0</td>\n",
       "      <td>2 seconds</td>\n",
       "      <td>30</td>\n",
       "      <td>50.0</td>\n",
       "      <td>0.001</td>\n",
       "      <td>nil</td>\n",
       "      <td>...</td>\n",
       "      <td>1.000000e-10</td>\n",
       "      <td>0.3</td>\n",
       "      <td>10</td>\n",
       "      <td>0.01</td>\n",
       "      <td>1.0</td>\n",
       "      <td>100.0</td>\n",
       "      <td>True</td>\n",
       "      <td>False</td>\n",
       "      <td>21930.250000</td>\n",
       "      <td>0.918333</td>\n",
       "    </tr>\n",
       "    <tr>\n",
       "      <th>2</th>\n",
       "      <td>mlfd_test</td>\n",
       "      <td>100</td>\n",
       "      <td>20</td>\n",
       "      <td>200</td>\n",
       "      <td>3000.0</td>\n",
       "      <td>2 seconds</td>\n",
       "      <td>30</td>\n",
       "      <td>50.0</td>\n",
       "      <td>0.001</td>\n",
       "      <td>nil</td>\n",
       "      <td>...</td>\n",
       "      <td>1.000000e-10</td>\n",
       "      <td>0.3</td>\n",
       "      <td>10</td>\n",
       "      <td>0.01</td>\n",
       "      <td>2.0</td>\n",
       "      <td>100.0</td>\n",
       "      <td>True</td>\n",
       "      <td>False</td>\n",
       "      <td>22363.500000</td>\n",
       "      <td>0.506667</td>\n",
       "    </tr>\n",
       "    <tr>\n",
       "      <th>3</th>\n",
       "      <td>mlfd_test</td>\n",
       "      <td>100</td>\n",
       "      <td>20</td>\n",
       "      <td>200</td>\n",
       "      <td>3000.0</td>\n",
       "      <td>2 seconds</td>\n",
       "      <td>30</td>\n",
       "      <td>50.0</td>\n",
       "      <td>0.001</td>\n",
       "      <td>nil</td>\n",
       "      <td>...</td>\n",
       "      <td>1.000000e-10</td>\n",
       "      <td>0.3</td>\n",
       "      <td>10</td>\n",
       "      <td>0.01</td>\n",
       "      <td>3.0</td>\n",
       "      <td>100.0</td>\n",
       "      <td>True</td>\n",
       "      <td>False</td>\n",
       "      <td>22652.071429</td>\n",
       "      <td>0.350000</td>\n",
       "    </tr>\n",
       "    <tr>\n",
       "      <th>4</th>\n",
       "      <td>mlfd_test</td>\n",
       "      <td>100</td>\n",
       "      <td>20</td>\n",
       "      <td>200</td>\n",
       "      <td>3000.0</td>\n",
       "      <td>2 seconds</td>\n",
       "      <td>30</td>\n",
       "      <td>50.0</td>\n",
       "      <td>0.001</td>\n",
       "      <td>nil</td>\n",
       "      <td>...</td>\n",
       "      <td>1.000000e-10</td>\n",
       "      <td>0.3</td>\n",
       "      <td>10</td>\n",
       "      <td>0.01</td>\n",
       "      <td>4.0</td>\n",
       "      <td>100.0</td>\n",
       "      <td>True</td>\n",
       "      <td>False</td>\n",
       "      <td>23373.535714</td>\n",
       "      <td>0.295000</td>\n",
       "    </tr>\n",
       "    <tr>\n",
       "      <th>5</th>\n",
       "      <td>mlfd_test</td>\n",
       "      <td>100</td>\n",
       "      <td>20</td>\n",
       "      <td>200</td>\n",
       "      <td>3000.0</td>\n",
       "      <td>2 seconds</td>\n",
       "      <td>30</td>\n",
       "      <td>50.0</td>\n",
       "      <td>0.001</td>\n",
       "      <td>nil</td>\n",
       "      <td>...</td>\n",
       "      <td>1.000000e-10</td>\n",
       "      <td>0.3</td>\n",
       "      <td>10</td>\n",
       "      <td>0.01</td>\n",
       "      <td>5.0</td>\n",
       "      <td>100.0</td>\n",
       "      <td>True</td>\n",
       "      <td>False</td>\n",
       "      <td>24762.185185</td>\n",
       "      <td>0.261667</td>\n",
       "    </tr>\n",
       "  </tbody>\n",
       "</table>\n",
       "<p>6 rows × 24 columns</p>\n",
       "</div>"
      ],
      "text/plain": [
       "        test  workersCount  locationsCount  sampleSize  defaultMean  \\\n",
       "0  mlfd_test           100              20         200       3000.0   \n",
       "1  mlfd_test           100              20         200       3000.0   \n",
       "2  mlfd_test           100              20         200       3000.0   \n",
       "3  mlfd_test           100              20         200       3000.0   \n",
       "4  mlfd_test           100              20         200       3000.0   \n",
       "5  mlfd_test           100              20         200       3000.0   \n",
       "\n",
       "   hbTimeout  stdDevCount  geoFactor  crashProb delta     ...       \\\n",
       "0  2 seconds           30       50.0      0.001   nil     ...        \n",
       "1  2 seconds           30       50.0      0.001   nil     ...        \n",
       "2  2 seconds           30       50.0      0.001   nil     ...        \n",
       "3  2 seconds           30       50.0      0.001   nil     ...        \n",
       "4  2 seconds           30       50.0      0.001   nil     ...        \n",
       "5  2 seconds           30       50.0      0.001   nil     ...        \n",
       "\n",
       "   learningRate  regParam  numIterations  messageLossProb  stdevMargin  \\\n",
       "0  1.000000e-10       0.3             10             0.01          0.0   \n",
       "1  1.000000e-10       0.3             10             0.01          1.0   \n",
       "2  1.000000e-10       0.3             10             0.01          2.0   \n",
       "3  1.000000e-10       0.3             10             0.01          3.0   \n",
       "4  1.000000e-10       0.3             10             0.01          4.0   \n",
       "5  1.000000e-10       0.3             10             0.01          5.0   \n",
       "\n",
       "   stdevFactor  pattern   rand  averageDetectiontime  mistakeRate  \n",
       "0        100.0     True  False          21353.178571     1.563333  \n",
       "1        100.0     True  False          21930.250000     0.918333  \n",
       "2        100.0     True  False          22363.500000     0.506667  \n",
       "3        100.0     True  False          22652.071429     0.350000  \n",
       "4        100.0     True  False          23373.535714     0.295000  \n",
       "5        100.0     True  False          24762.185185     0.261667  \n",
       "\n",
       "[6 rows x 24 columns]"
      ]
     },
     "execution_count": 20,
     "metadata": {},
     "output_type": "execute_result"
    }
   ],
   "source": [
    "test_info = pd.read_csv(\"./test_info.csv\")\n",
    "test_info"
   ]
  },
  {
   "cell_type": "markdown",
   "metadata": {
    "collapsed": true
   },
   "source": [
    "## Compare effect on FD QoS metrics when changing the accuracy-parameter "
   ]
  },
  {
   "cell_type": "code",
   "execution_count": 21,
   "metadata": {
    "scrolled": true
   },
   "outputs": [
    {
     "data": {
      "image/png": "[encoded data removed]",
      "text/plain": [
       "<matplotlib.figure.Figure at 0x7f8749180c88>"
      ]
     },
     "metadata": {},
     "output_type": "display_data"
    }
   ],
   "source": [
    "detect_sample = test_info.loc[:,[\"stdevMargin\", \"averageDetectiontime\"]]\n",
    "time = detect_sample[\"stdevMargin\"].values\n",
    "nodes = detect_sample[\"averageDetectiontime\"].values\n",
    "plt.plot(time, nodes)\n",
    "plt.ylabel('Average detection time')\n",
    "plt.xlabel('Number of standard deviations as prediction margin')\n",
    "plt.title('Average detection time with respect to margin for prediction')\n",
    "plt.show()"
   ]
  },
  {
   "cell_type": "code",
   "execution_count": 22,
   "metadata": {},
   "outputs": [
    {
     "data": {
      "image/png": "[encoded data removed]",
      "text/plain": [
       "<matplotlib.figure.Figure at 0x7f87492aa2b0>"
      ]
     },
     "metadata": {},
     "output_type": "display_data"
    }
   ],
   "source": [
    "detect_sample = test_info.loc[:,[\"stdevMargin\", \"mistakeRate\"]]\n",
    "time = detect_sample[\"stdevMargin\"].values\n",
    "nodes = detect_sample[\"mistakeRate\"].values\n",
    "plt.plot(time, nodes)\n",
    "plt.ylabel('mistakeRate (mistake/s)')\n",
    "plt.xlabel('Number of standard deviations as prediction margin')\n",
    "plt.title('Mistakerate with respect to margin for prediction')\n",
    "plt.show()"
   ]
  },
  {
   "cell_type": "code",
   "execution_count": null,
   "metadata": {
    "collapsed": true
   },
   "outputs": [],
   "source": []
  },
  {
   "cell_type": "code",
   "execution_count": null,
   "metadata": {
    "collapsed": true
   },
   "outputs": [],
   "source": []
  }
 ],
 "metadata": {
  "kernelspec": {
   "display_name": "Python 3",
   "language": "python",
   "name": "python3"
  },
  "language_info": {
   "codemirror_mode": {
    "name": "ipython",
    "version": 3
   },
   "file_extension": ".py",
   "mimetype": "text/x-python",
   "name": "python",
   "nbconvert_exporter": "python",
   "pygments_lexer": "ipython3",
   "version": "3.6.1"
  }
 },
 "nbformat": 4,
 "nbformat_minor": 2
}
