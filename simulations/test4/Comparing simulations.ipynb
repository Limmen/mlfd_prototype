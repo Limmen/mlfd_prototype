{
 "cells": [
  {
   "cell_type": "code",
   "execution_count": 1,
   "metadata": {
    "collapsed": true
   },
   "outputs": [],
   "source": [
    "import pandas as pd\n",
    "import numpy as np\n",
    "import matplotlib.pyplot as plt\n",
    "import math\n",
    "%matplotlib inline\n",
    "plt.rc('text', usetex=True)\n",
    "plt.rc('font', family='serif')\n",
    "plt.rcParams['text.latex.preamble']=[r\"\\usepackage{amssymb}\",\n",
    "                                     r\"\\usepackage{amsmath}\"]"
   ]
  },
  {
   "cell_type": "code",
   "execution_count": 2,
   "metadata": {
    "scrolled": true
   },
   "outputs": [
    {
     "data": {
      "text/html": [
       "<div>\n",
       "<style>\n",
       "    .dataframe thead tr:only-child th {\n",
       "        text-align: right;\n",
       "    }\n",
       "\n",
       "    .dataframe thead th {\n",
       "        text-align: left;\n",
       "    }\n",
       "\n",
       "    .dataframe tbody tr th {\n",
       "        vertical-align: top;\n",
       "    }\n",
       "</style>\n",
       "<table border=\"1\" class=\"dataframe\">\n",
       "  <thead>\n",
       "    <tr style=\"text-align: right;\">\n",
       "      <th></th>\n",
       "      <th>test</th>\n",
       "      <th>workersCount</th>\n",
       "      <th>locationsCount</th>\n",
       "      <th>sampleSize</th>\n",
       "      <th>defaultMean</th>\n",
       "      <th>hbTimeout</th>\n",
       "      <th>stdDevCount</th>\n",
       "      <th>geoFactor</th>\n",
       "      <th>crashProb</th>\n",
       "      <th>delta</th>\n",
       "      <th>...</th>\n",
       "      <th>learningRate</th>\n",
       "      <th>regParam</th>\n",
       "      <th>numIterations</th>\n",
       "      <th>messageLossProb</th>\n",
       "      <th>stdevMargin</th>\n",
       "      <th>stdevFactor</th>\n",
       "      <th>pattern</th>\n",
       "      <th>distribution</th>\n",
       "      <th>averageDetectiontime</th>\n",
       "      <th>mistakeRate</th>\n",
       "    </tr>\n",
       "  </thead>\n",
       "  <tbody>\n",
       "    <tr>\n",
       "      <th>0</th>\n",
       "      <td>mlfd_test</td>\n",
       "      <td>100</td>\n",
       "      <td>20</td>\n",
       "      <td>200</td>\n",
       "      <td>3000.0</td>\n",
       "      <td>2 seconds</td>\n",
       "      <td>30</td>\n",
       "      <td>1000.0</td>\n",
       "      <td>0.001</td>\n",
       "      <td>nil</td>\n",
       "      <td>...</td>\n",
       "      <td>1.0E-10</td>\n",
       "      <td>0.3</td>\n",
       "      <td>10</td>\n",
       "      <td>0.01</td>\n",
       "      <td>3.0</td>\n",
       "      <td>100.0</td>\n",
       "      <td>True</td>\n",
       "      <td>3</td>\n",
       "      <td>9470.689655</td>\n",
       "      <td>0.380556</td>\n",
       "    </tr>\n",
       "    <tr>\n",
       "      <th>1</th>\n",
       "      <td>mlfd_test</td>\n",
       "      <td>100</td>\n",
       "      <td>20</td>\n",
       "      <td>200</td>\n",
       "      <td>3000.0</td>\n",
       "      <td>2 seconds</td>\n",
       "      <td>30</td>\n",
       "      <td>1000.0</td>\n",
       "      <td>0.001</td>\n",
       "      <td>nil</td>\n",
       "      <td>...</td>\n",
       "      <td>1.0E-10</td>\n",
       "      <td>0.3</td>\n",
       "      <td>10</td>\n",
       "      <td>0.01</td>\n",
       "      <td>3.0</td>\n",
       "      <td>100.0</td>\n",
       "      <td>False</td>\n",
       "      <td>3</td>\n",
       "      <td>9295.873016</td>\n",
       "      <td>0.381111</td>\n",
       "    </tr>\n",
       "    <tr>\n",
       "      <th>2</th>\n",
       "      <td>mlfd_test</td>\n",
       "      <td>100</td>\n",
       "      <td>20</td>\n",
       "      <td>200</td>\n",
       "      <td>3000.0</td>\n",
       "      <td>2 seconds</td>\n",
       "      <td>30</td>\n",
       "      <td>1000.0</td>\n",
       "      <td>0.001</td>\n",
       "      <td>nil</td>\n",
       "      <td>...</td>\n",
       "      <td>1.0E-10</td>\n",
       "      <td>0.3</td>\n",
       "      <td>10</td>\n",
       "      <td>0.01</td>\n",
       "      <td>3.0</td>\n",
       "      <td>100.0</td>\n",
       "      <td>True</td>\n",
       "      <td>1</td>\n",
       "      <td>27268.758065</td>\n",
       "      <td>0.260556</td>\n",
       "    </tr>\n",
       "    <tr>\n",
       "      <th>3</th>\n",
       "      <td>mlfd_test</td>\n",
       "      <td>100</td>\n",
       "      <td>20</td>\n",
       "      <td>200</td>\n",
       "      <td>3000.0</td>\n",
       "      <td>2 seconds</td>\n",
       "      <td>30</td>\n",
       "      <td>1000.0</td>\n",
       "      <td>0.001</td>\n",
       "      <td>nil</td>\n",
       "      <td>...</td>\n",
       "      <td>1.0E-10</td>\n",
       "      <td>0.3</td>\n",
       "      <td>10</td>\n",
       "      <td>0.01</td>\n",
       "      <td>3.0</td>\n",
       "      <td>100.0</td>\n",
       "      <td>True</td>\n",
       "      <td>2</td>\n",
       "      <td>5553.484375</td>\n",
       "      <td>1.389444</td>\n",
       "    </tr>\n",
       "    <tr>\n",
       "      <th>4</th>\n",
       "      <td>epfd_test</td>\n",
       "      <td>100</td>\n",
       "      <td>20</td>\n",
       "      <td>nil</td>\n",
       "      <td>nil</td>\n",
       "      <td>2 seconds</td>\n",
       "      <td>30</td>\n",
       "      <td>1000.0</td>\n",
       "      <td>0.001</td>\n",
       "      <td>2 seconds</td>\n",
       "      <td>...</td>\n",
       "      <td>nil</td>\n",
       "      <td>nil</td>\n",
       "      <td>nil</td>\n",
       "      <td>0.01</td>\n",
       "      <td>nil</td>\n",
       "      <td>100.0</td>\n",
       "      <td>True</td>\n",
       "      <td>3</td>\n",
       "      <td>20930.862069</td>\n",
       "      <td>0.051111</td>\n",
       "    </tr>\n",
       "    <tr>\n",
       "      <th>5</th>\n",
       "      <td>epfd_test</td>\n",
       "      <td>100</td>\n",
       "      <td>20</td>\n",
       "      <td>nil</td>\n",
       "      <td>nil</td>\n",
       "      <td>2 seconds</td>\n",
       "      <td>30</td>\n",
       "      <td>1000.0</td>\n",
       "      <td>0.001</td>\n",
       "      <td>2 seconds</td>\n",
       "      <td>...</td>\n",
       "      <td>nil</td>\n",
       "      <td>nil</td>\n",
       "      <td>nil</td>\n",
       "      <td>0.01</td>\n",
       "      <td>nil</td>\n",
       "      <td>100.0</td>\n",
       "      <td>False</td>\n",
       "      <td>3</td>\n",
       "      <td>20969.777778</td>\n",
       "      <td>0.052778</td>\n",
       "    </tr>\n",
       "    <tr>\n",
       "      <th>6</th>\n",
       "      <td>epfd_test</td>\n",
       "      <td>100</td>\n",
       "      <td>20</td>\n",
       "      <td>nil</td>\n",
       "      <td>nil</td>\n",
       "      <td>2 seconds</td>\n",
       "      <td>30</td>\n",
       "      <td>1000.0</td>\n",
       "      <td>0.001</td>\n",
       "      <td>2 seconds</td>\n",
       "      <td>...</td>\n",
       "      <td>nil</td>\n",
       "      <td>nil</td>\n",
       "      <td>nil</td>\n",
       "      <td>0.01</td>\n",
       "      <td>nil</td>\n",
       "      <td>100.0</td>\n",
       "      <td>True</td>\n",
       "      <td>1</td>\n",
       "      <td>64341.704918</td>\n",
       "      <td>0.063333</td>\n",
       "    </tr>\n",
       "    <tr>\n",
       "      <th>7</th>\n",
       "      <td>epfd_test</td>\n",
       "      <td>100</td>\n",
       "      <td>20</td>\n",
       "      <td>nil</td>\n",
       "      <td>nil</td>\n",
       "      <td>2 seconds</td>\n",
       "      <td>30</td>\n",
       "      <td>1000.0</td>\n",
       "      <td>0.001</td>\n",
       "      <td>2 seconds</td>\n",
       "      <td>...</td>\n",
       "      <td>nil</td>\n",
       "      <td>nil</td>\n",
       "      <td>nil</td>\n",
       "      <td>0.01</td>\n",
       "      <td>nil</td>\n",
       "      <td>100.0</td>\n",
       "      <td>True</td>\n",
       "      <td>2</td>\n",
       "      <td>17359.093750</td>\n",
       "      <td>0.050000</td>\n",
       "    </tr>\n",
       "  </tbody>\n",
       "</table>\n",
       "<p>8 rows × 24 columns</p>\n",
       "</div>"
      ],
      "text/plain": [
       "        test  workersCount  locationsCount sampleSize defaultMean  hbTimeout  \\\n",
       "0  mlfd_test           100              20        200      3000.0  2 seconds   \n",
       "1  mlfd_test           100              20        200      3000.0  2 seconds   \n",
       "2  mlfd_test           100              20        200      3000.0  2 seconds   \n",
       "3  mlfd_test           100              20        200      3000.0  2 seconds   \n",
       "4  epfd_test           100              20        nil         nil  2 seconds   \n",
       "5  epfd_test           100              20        nil         nil  2 seconds   \n",
       "6  epfd_test           100              20        nil         nil  2 seconds   \n",
       "7  epfd_test           100              20        nil         nil  2 seconds   \n",
       "\n",
       "   stdDevCount  geoFactor  crashProb      delta     ...      learningRate  \\\n",
       "0           30     1000.0      0.001        nil     ...           1.0E-10   \n",
       "1           30     1000.0      0.001        nil     ...           1.0E-10   \n",
       "2           30     1000.0      0.001        nil     ...           1.0E-10   \n",
       "3           30     1000.0      0.001        nil     ...           1.0E-10   \n",
       "4           30     1000.0      0.001  2 seconds     ...               nil   \n",
       "5           30     1000.0      0.001  2 seconds     ...               nil   \n",
       "6           30     1000.0      0.001  2 seconds     ...               nil   \n",
       "7           30     1000.0      0.001  2 seconds     ...               nil   \n",
       "\n",
       "   regParam  numIterations messageLossProb stdevMargin stdevFactor pattern  \\\n",
       "0       0.3             10            0.01         3.0       100.0    True   \n",
       "1       0.3             10            0.01         3.0       100.0   False   \n",
       "2       0.3             10            0.01         3.0       100.0    True   \n",
       "3       0.3             10            0.01         3.0       100.0    True   \n",
       "4       nil            nil            0.01         nil       100.0    True   \n",
       "5       nil            nil            0.01         nil       100.0   False   \n",
       "6       nil            nil            0.01         nil       100.0    True   \n",
       "7       nil            nil            0.01         nil       100.0    True   \n",
       "\n",
       "   distribution averageDetectiontime  mistakeRate  \n",
       "0             3          9470.689655     0.380556  \n",
       "1             3          9295.873016     0.381111  \n",
       "2             1         27268.758065     0.260556  \n",
       "3             2          5553.484375     1.389444  \n",
       "4             3         20930.862069     0.051111  \n",
       "5             3         20969.777778     0.052778  \n",
       "6             1         64341.704918     0.063333  \n",
       "7             2         17359.093750     0.050000  \n",
       "\n",
       "[8 rows x 24 columns]"
      ]
     },
     "execution_count": 2,
     "metadata": {},
     "output_type": "execute_result"
    }
   ],
   "source": [
    "test_info = pd.read_csv(\"./test_info.csv\")\n",
    "test_info"
   ]
  },
  {
   "cell_type": "markdown",
   "metadata": {
    "collapsed": true
   },
   "source": [
    "## Compare Failure detectors with different RTT patterns"
   ]
  },
  {
   "cell_type": "code",
   "execution_count": 3,
   "metadata": {},
   "outputs": [
    {
     "data": {
      "text/plain": [
       "<matplotlib.text.Text at 0x7f053be1bbe0>"
      ]
     },
     "execution_count": 3,
     "metadata": {},
     "output_type": "execute_result"
    },
    {
     "data": {
      "image/png": "[encoded data removed]",
      "text/plain": [
       "<matplotlib.figure.Figure at 0x7f053f1cd198>"
      ]
     },
     "metadata": {},
     "output_type": "display_data"
    }
   ],
   "source": [
    "mlfdPattern = test_info.iloc[0][\"mistakeRate\"]\n",
    "mlfdNoPattern = test_info.iloc[1][\"mistakeRate\"]\n",
    "mlfdExp = test_info.iloc[2][\"mistakeRate\"]\n",
    "mlfdWei = test_info.iloc[3][\"mistakeRate\"]\n",
    "epfdPattern = test_info.iloc[4][\"mistakeRate\"]\n",
    "epfdNoPattern = test_info.iloc[5][\"mistakeRate\"]\n",
    "epfdExp = test_info.iloc[6][\"mistakeRate\"]\n",
    "epfdWei = test_info.iloc[7][\"mistakeRate\"]\n",
    "data = [mlfdPattern, mlfdNoPattern, mlfdExp, mlfdWei, epfdPattern, epfdNoPattern, epfdExp, epfdWei]\n",
    "labels = ('ml-w-p', 'ml-wo-p', \"ml-exp\",\"ml-wei\",\"ep-w-p\",\"ep-wo-p\",\"ep-exp\",\"ep-wei\")\n",
    "N = len(labels)\n",
    "x = range(N)\n",
    "width = 1/1.5\n",
    "barlist = plt.bar(x, data, width, color=\"blue\")\n",
    "barlist[0].set_color('r')\n",
    "barlist[1].set_color('g')\n",
    "barlist[2].set_color('b')\n",
    "barlist[3].set_color('y')\n",
    "barlist[4].set_color('c')\n",
    "barlist[5].set_color('k')\n",
    "barlist[6].set_color('m')\n",
    "barlist[7].set_color('w')\n",
    "plt.xticks(np.arange(N), labels)\n",
    "plt.ylabel('mistakeRate (mistake/s)')\n",
    "plt.title('Comparisons of MLFD & EPFD in environments with different RTT patterns (or no patterns)')"
   ]
  },
  {
   "cell_type": "code",
   "execution_count": 4,
   "metadata": {},
   "outputs": [
    {
     "data": {
      "text/plain": [
       "(0, 10)"
      ]
     },
     "execution_count": 4,
     "metadata": {},
     "output_type": "execute_result"
    },
    {
     "data": {
      "image/png": "[encoded data removed]",
      "text/plain": [
       "<matplotlib.figure.Figure at 0x7f053bd886d8>"
      ]
     },
     "metadata": {},
     "output_type": "display_data"
    }
   ],
   "source": [
    "fs_mlfd_pattern = pd.read_csv('test4_pattern_mlfd/data/stats/node_false_suspicions.csv').groupby(\"timestamp\").count()\n",
    "fs_mlfd_no_pattern = pd.read_csv('test4_nopattern_mlfd/data/stats/node_false_suspicions.csv').groupby(\"timestamp\").count()\n",
    "fs_mlfd_exp = pd.read_csv('test4_exp_mlfd/data/stats/node_false_suspicions.csv').groupby(\"timestamp\").count()\n",
    "fs_mlfd_wei = pd.read_csv('test4_weibull_mlfd/data/stats/node_false_suspicions.csv').groupby(\"timestamp\").count()\n",
    "fs_epfd_pattern = pd.read_csv('test4_pattern_epfd/data/stats/node_false_suspicions.csv').groupby(\"timestamp\").count()\n",
    "fs_epfd_no_pattern = pd.read_csv('test4_nopattern_epfd/data/stats/node_false_suspicions.csv').groupby(\"timestamp\").count()\n",
    "fs_epfd_exp = pd.read_csv('test4_exp_epfd/data/stats/node_false_suspicions.csv').groupby(\"timestamp\").count()\n",
    "fs_epfd_wei = pd.read_csv('test4_weibull_epfd/data/stats/node_false_suspicions.csv').groupby(\"timestamp\").count()\n",
    "bar_width = 0.45\n",
    "error_config = {'ecolor': '0.3'}\n",
    "index1 = np.arange(len(fs_mlfd_pattern.values))\n",
    "index2 = np.arange(len(fs_mlfd_no_pattern.values))\n",
    "index3 = np.arange(len(fs_mlfd_exp))\n",
    "index4 = np.arange(len(fs_mlfd_wei))\n",
    "index5 = np.arange(len(fs_epfd_pattern.values))\n",
    "index6 = np.arange(len(fs_epfd_no_pattern.values))\n",
    "index7 = np.arange(len(fs_epfd_exp))\n",
    "index8 = np.arange(len(fs_epfd_wei))\n",
    "plt.bar(index1, fs_mlfd_pattern.values, width=width, color='r', error_kw=error_config, label='MLFD-with-patterns')\n",
    "plt.bar(index2 + bar_width, fs_mlfd_no_pattern.values, width=width, color='g', error_kw=error_config, label='MLFD-no-patterns')\n",
    "plt.bar(index3 + bar_width, fs_mlfd_exp.values, width=width, color='b', error_kw=error_config, label='MLFD-exp')\n",
    "plt.bar(index4 + bar_width, fs_mlfd_wei.values, width=width, color='y', error_kw=error_config, label='MLFD-wei')\n",
    "plt.bar(index5 + bar_width, fs_epfd_pattern.values, width=width, color='c', error_kw=error_config, label='EPFD-with-patterns')\n",
    "plt.bar(index6 + bar_width, fs_epfd_no_pattern.values, width=width, color='k', error_kw=error_config, label='EPFD-no-patterns')\n",
    "plt.bar(index7 + bar_width, fs_epfd_exp.values, width=width, color='m', error_kw=error_config, label='EPFD-exp')\n",
    "plt.bar(index8 + bar_width, fs_epfd_wei.values, width=width, color='w', error_kw=error_config, label='EPFD-wei')\n",
    "plt.xlabel('Time')\n",
    "plt.ylabel('Number of false suspicions')\n",
    "plt.title('Number of false suspicions over time')\n",
    "plt.legend()\n",
    "#lt.xticks(index1 + bar_width, ('MLFD', 'EPFD'))\n",
    "plt.tight_layout()\n",
    "axes = plt.gca()\n",
    "#axes.set_xlim([xmin,xmax])\n",
    "axes.set_ylim([0,10])"
   ]
  },
  {
   "cell_type": "code",
   "execution_count": 5,
   "metadata": {},
   "outputs": [
    {
     "data": {
      "image/png": "[encoded data removed]",
      "text/plain": [
       "<matplotlib.figure.Figure at 0x7f053f198f98>"
      ]
     },
     "metadata": {},
     "output_type": "display_data"
    }
   ],
   "source": [
    "mlfdPattern = test_info.iloc[0][\"mistakeRate\"]\n",
    "mlfdNoPattern = test_info.iloc[1][\"mistakeRate\"]\n",
    "mlfdExp = test_info.iloc[2][\"mistakeRate\"]\n",
    "mlfdWei = test_info.iloc[3][\"mistakeRate\"]\n",
    "data = [mlfdPattern, mlfdNoPattern, mlfdExp, mlfdWei]\n",
    "labels = (r'$RTT \\sim \\mathcal{N}_p(\\mu, \\sigma^2)$', r'$RTT \\sim \\mathcal{N}_{np}(\\mu, \\sigma^2)$', r\"$RTT \\sim Exp_p(\\mu)$\", \"$RTT \\sim Wei_p(\\lambda, 1.5)$\")\n",
    "N = len(labels)\n",
    "x = range(N)\n",
    "width = 1/2.5\n",
    "barlist = plt.bar(x, data, width, color=\"blue\")\n",
    "barlist[0].set_color('r')\n",
    "barlist[1].set_color('g')\n",
    "barlist[2].set_color('y')\n",
    "plt.xticks(np.arange(N), labels)\n",
    "plt.ylabel(r'mistake rate $\\lambda_M$ (mistake/s)')\n",
    "plt.title(r'Mistakerate $\\lambda_M$ of MLFD for different distributions')\n",
    "plt.savefig('mlfd_mistake_rate_comparison.eps', format='eps', dpi=1000)"
   ]
  },
  {
   "cell_type": "code",
   "execution_count": 6,
   "metadata": {},
   "outputs": [
    {
     "data": {
      "image/png": "[encoded data removed]",
      "text/plain": [
       "<matplotlib.figure.Figure at 0x7f053b5d8dd8>"
      ]
     },
     "metadata": {},
     "output_type": "display_data"
    }
   ],
   "source": [
    "mlfdPattern = test_info.iloc[0][\"averageDetectiontime\"]\n",
    "mlfdNoPattern = test_info.iloc[1][\"averageDetectiontime\"]\n",
    "mlfdExp = test_info.iloc[2][\"averageDetectiontime\"]\n",
    "mlfdWei = test_info.iloc[3][\"averageDetectiontime\"]\n",
    "data = [mlfdPattern, mlfdNoPattern, mlfdExp, mlfdWei]\n",
    "labels = (r'$RTT \\sim \\mathcal{N}_p(\\mu, \\sigma^2)$', r'$RTT \\sim \\mathcal{N}_{np}(\\mu, \\sigma^2)$', r\"$RTT \\sim Exp_p(\\mu)$\", \"$RTT \\sim Wei_p(\\lambda, 1.5)$\")\n",
    "N = len(labels)\n",
    "x = range(N)\n",
    "width = 1/2.5\n",
    "barlist = plt.bar(x, data, width, color=\"blue\")\n",
    "barlist[0].set_color('r')\n",
    "barlist[1].set_color('g')\n",
    "barlist[2].set_color('y')\n",
    "plt.xticks(np.arange(N), labels)\n",
    "plt.ylabel(r'Average detection time $T_D$ (ms)')\n",
    "plt.title(r'Average detection time $T_D$ of MLFD for different distributions')\n",
    "plt.savefig('mlfd_detection_time_comparison.eps', format='eps', dpi=1000)"
   ]
  },
  {
   "cell_type": "code",
   "execution_count": 7,
   "metadata": {},
   "outputs": [
    {
     "data": {
      "image/png": "[encoded data removed]",
      "text/plain": [
       "<matplotlib.figure.Figure at 0x7f053acd8ac8>"
      ]
     },
     "metadata": {},
     "output_type": "display_data"
    }
   ],
   "source": [
    "epfdPattern = test_info.iloc[4][\"mistakeRate\"]\n",
    "epfdNoPattern = test_info.iloc[5][\"mistakeRate\"]\n",
    "epfdExp = test_info.iloc[6][\"mistakeRate\"]\n",
    "epfdWei = test_info.iloc[7][\"mistakeRate\"]\n",
    "data = [epfdPattern, epfdNoPattern, epfdExp, epfdWei]\n",
    "#labels = ('EPFD-With-Pattern', 'EPFD-No-Pattern', \"EPFD-Exp\", \"EPFD-Wei\")\n",
    "labels = (r'$RTT \\sim \\mathcal{N}_p(\\mu, \\sigma^2)$', r'$RTT \\sim \\mathcal{N}_{np}(\\mu, \\sigma^2)$', r\"$RTT \\sim Exp_p(\\mu)$\", \"$RTT \\sim Wei_p(\\lambda, 1.5)$\")\n",
    "N = len(labels)\n",
    "x = range(N)\n",
    "width = 1/2.5\n",
    "barlist = plt.bar(x, data, width, color=\"blue\")\n",
    "barlist[0].set_color('r')\n",
    "barlist[1].set_color('g')\n",
    "barlist[2].set_color('y')\n",
    "plt.xticks(np.arange(N), labels)\n",
    "plt.ylabel(r'mistake rate $\\lambda_M$ (mistake/s)')\n",
    "plt.title(r'Mistakerate $\\lambda_M$ of $\\Diamond \\mathcal{P}$ for different distributions')\n",
    "plt.savefig('epfd_mistake_rate_comparison.eps', format='eps', dpi=1000)"
   ]
  },
  {
   "cell_type": "code",
   "execution_count": 8,
   "metadata": {},
   "outputs": [
    {
     "data": {
      "image/png": "[encoded data removed]",
      "text/plain": [
       "<matplotlib.figure.Figure at 0x7f053a44bac8>"
      ]
     },
     "metadata": {},
     "output_type": "display_data"
    }
   ],
   "source": [
    "epfdPattern = test_info.iloc[4][\"averageDetectiontime\"]\n",
    "epfdNoPattern = test_info.iloc[5][\"averageDetectiontime\"]\n",
    "epfdExp = test_info.iloc[6][\"averageDetectiontime\"]\n",
    "epfdWei = test_info.iloc[7][\"averageDetectiontime\"]\n",
    "data = [epfdPattern, epfdNoPattern, epfdExp, epfdWei]\n",
    "#labels = ('EPFD-With-Pattern', 'EPFD-No-Pattern', \"EPFD-Exp\", \"EPFD-Wei\")\n",
    "labels = (r'$RTT \\sim \\mathcal{N}_p(\\mu, \\sigma^2)$', r'$RTT \\sim \\mathcal{N}_{np}(\\mu, \\sigma^2)$', r\"$RTT \\sim Exp_p(\\mu)$\", r\"$RTT \\sim Wei_p(\\lambda, 1.5)$\")\n",
    "N = len(labels)\n",
    "x = range(N)\n",
    "width = 1/2.5\n",
    "barlist = plt.bar(x, data, width, color=\"blue\")\n",
    "barlist[0].set_color('r')\n",
    "barlist[1].set_color('g')\n",
    "barlist[2].set_color('y')\n",
    "plt.xticks(np.arange(N), labels)\n",
    "plt.ylabel(r'Average detection time $T_D$ (ms)')\n",
    "plt.title(r'Average detection time $T_D$ of $\\Diamond \\mathcal{P}$ for different distributions')\n",
    "plt.savefig('epfd_detection_time_comparison.eps', format='eps', dpi=1000)"
   ]
  },
  {
   "cell_type": "code",
   "execution_count": 9,
   "metadata": {},
   "outputs": [
    {
     "data": {
      "text/plain": [
       "(0, 10)"
      ]
     },
     "execution_count": 9,
     "metadata": {},
     "output_type": "execute_result"
    },
    {
     "data": {
      "image/png": "[encoded data removed]",
      "text/plain": [
       "<matplotlib.figure.Figure at 0x7f053a3a84a8>"
      ]
     },
     "metadata": {},
     "output_type": "display_data"
    }
   ],
   "source": [
    "fs_mlfd_pattern = pd.read_csv('test4_pattern_mlfd/data/stats/node_false_suspicions.csv').groupby(\"timestamp\").count()\n",
    "fs_mlfd_no_pattern = pd.read_csv('test4_nopattern_mlfd/data/stats/node_false_suspicions.csv').groupby(\"timestamp\").count()\n",
    "fs_mlfd_exp = pd.read_csv('test4_exp_mlfd/data/stats/node_false_suspicions.csv').groupby(\"timestamp\").count()\n",
    "fs_mlfd_weibull = pd.read_csv('test4_exp_mlfd/data/stats/node_false_suspicions.csv').groupby(\"timestamp\").count()\n",
    "bar_width = 0.45\n",
    "index1 = np.arange(len(fs_mlfd_pattern.values))\n",
    "index2 = np.arange(len(fs_mlfd_no_pattern.values))\n",
    "index3 = np.arange(len(fs_mlfd_exp))\n",
    "index4 = np.arange(len(fs_mlfd_weibull))\n",
    "plt.bar(index1, fs_mlfd_pattern.values, width=width, color='r', error_kw=error_config, label='MLFD-with-patterns')\n",
    "plt.bar(index2 + bar_width, fs_mlfd_no_pattern.values, width=width, color='g', error_kw=error_config, label='MLFD-no-patterns')\n",
    "plt.bar(index3 + bar_width, fs_mlfd_exp.values, width=width, color='b', error_kw=error_config, label='MLFD-exp')\n",
    "plt.bar(index4 + bar_width, fs_mlfd_weibull.values, width=width, color='y', error_kw=error_config, label='MLFD-wei')\n",
    "plt.xlabel('Time')\n",
    "plt.ylabel('Number of false suspicions')\n",
    "plt.title('Number of false suspicions over time')\n",
    "plt.legend()\n",
    "#lt.xticks(index1 + bar_width, ('MLFD', 'EPFD'))\n",
    "plt.tight_layout()\n",
    "axes = plt.gca()\n",
    "#axes.set_xlim([xmin,xmax])\n",
    "axes.set_ylim([0,10])"
   ]
  },
  {
   "cell_type": "code",
   "execution_count": 10,
   "metadata": {},
   "outputs": [
    {
     "name": "stdout",
     "output_type": "stream",
     "text": [
      "17359.09375\n",
      "64341.704918\n"
     ]
    },
    {
     "data": {
      "image/png": "[encoded data removed]",
      "text/plain": [
       "<matplotlib.figure.Figure at 0x7f0539fb2f28>"
      ]
     },
     "metadata": {},
     "output_type": "display_data"
    }
   ],
   "source": [
    "mlfdPattern = test_info.iloc[0][\"averageDetectiontime\"]\n",
    "mlfdNoPattern = test_info.iloc[1][\"averageDetectiontime\"]\n",
    "mlfdExp = test_info.iloc[2][\"averageDetectiontime\"]\n",
    "mlfdWei = test_info.iloc[3][\"averageDetectiontime\"]\n",
    "epfdPattern = test_info.iloc[4][\"averageDetectiontime\"]\n",
    "epfdNoPattern = test_info.iloc[5][\"averageDetectiontime\"]\n",
    "epfdExp = test_info.iloc[6][\"averageDetectiontime\"]\n",
    "epfdWei = test_info.iloc[7][\"averageDetectiontime\"]\n",
    "data = [mlfdPattern, mlfdNoPattern, mlfdExp, mlfdWei, epfdPattern, epfdNoPattern, epfdExp, epfdWei]\n",
    "labels = ('ml-w-p','ml-wo-p',\"ml-exp\",\"ml-wei\",\"ep-w-p\",\"ep-wo-p\",\"ep-exp\",\"ep-wei\")\n",
    "N = len(labels)\n",
    "x = range(N)\n",
    "width = 1/5.5\n",
    "barlist = plt.bar(x, data, width, color=\"blue\")\n",
    "barlist[0].set_color('r')\n",
    "barlist[1].set_color('g')\n",
    "barlist[2].set_color('b')\n",
    "barlist[3].set_color('y')\n",
    "barlist[4].set_color('c')\n",
    "barlist[5].set_color('k')\n",
    "barlist[6].set_color('m')\n",
    "barlist[7].set_color('w')\n",
    "plt.xticks(np.arange(N), labels)\n",
    "plt.ylabel('mistakeRate (mistake/s)')\n",
    "plt.title('Comparisons of MLFD & EPFD in environments with different RTT patterns (or no patterns)')\n",
    "print(test_info.iloc[7][\"averageDetectiontime\"])\n",
    "print(test_info.iloc[6][\"averageDetectiontime\"])"
   ]
  },
  {
   "cell_type": "code",
   "execution_count": 11,
   "metadata": {},
   "outputs": [
    {
     "data": {
      "image/png": "[encoded data removed]",
      "text/plain": [
       "<matplotlib.figure.Figure at 0x7f053a23feb8>"
      ]
     },
     "metadata": {},
     "output_type": "display_data"
    }
   ],
   "source": [
    "pattern_mlfd_eval = pd.read_csv(\"test4_pattern_mlfd/data/stats/testresults.csv\")\n",
    "nopattern_mlfd_eval = pd.read_csv(\"test4_nopattern_mlfd/data/stats/testresults.csv\")\n",
    "exp_mlfd_eval = pd.read_csv(\"test4_exp_mlfd/data/stats/testresults.csv\")\n",
    "weibull_mlfd_eval = pd.read_csv(\"test4_weibull_mlfd/data/stats/testresults.csv\")\n",
    "time_pattern_mlfd = pattern_mlfd_eval[\"timestamp\"].values\n",
    "mse_pattern_mlfd = pattern_mlfd_eval[\"meanSquaredError\"].values\n",
    "time_nopattern_mlfd = nopattern_mlfd_eval[\"timestamp\"].values\n",
    "mse_nopattern_mlfd = nopattern_mlfd_eval[\"meanSquaredError\"].values\n",
    "time_exp_mlfd = exp_mlfd_eval[\"timestamp\"].values\n",
    "mse_exp_mlfd = exp_mlfd_eval[\"meanSquaredError\"].values\n",
    "time_weibull_mlfd = weibull_mlfd_eval[\"timestamp\"].values\n",
    "mse_weibull_mlfd = weibull_mlfd_eval[\"meanSquaredError\"].values\n",
    "plt.plot(time_pattern_mlfd, mse_pattern_mlfd, label=\"ml-w-p\")\n",
    "plt.plot(time_nopattern_mlfd, mse_nopattern_mlfd, label=\"ml-wo-p\")\n",
    "plt.plot(time_exp_mlfd, mse_exp_mlfd, label=\"ml-exp\")\n",
    "plt.plot(time_weibull_mlfd, mse_weibull_mlfd, label=\"ml-wei\")\n",
    "plt.ylabel('Mean Squared Error')\n",
    "plt.xlabel('timestamps')\n",
    "plt.title('MSE for timeout predictions with respect to time')\n",
    "plt.legend()\n",
    "plt.show()"
   ]
  },
  {
   "cell_type": "code",
   "execution_count": 12,
   "metadata": {
    "collapsed": true
   },
   "outputs": [],
   "source": [
    "#mse_exp_mlfd"
   ]
  },
  {
   "cell_type": "code",
   "execution_count": 13,
   "metadata": {},
   "outputs": [
    {
     "data": {
      "image/png": "[encoded data removed]",
      "text/plain": [
       "<matplotlib.figure.Figure at 0x7f0539365ac8>"
      ]
     },
     "metadata": {},
     "output_type": "display_data"
    }
   ],
   "source": [
    "mlfd_pattern_fs = pd.read_csv('test4_pattern_mlfd/data/stats/node_false_suspicions.csv').groupby(\"timestamp\").count()\n",
    "mlfd_nopattern_fs = pd.read_csv('test4_nopattern_mlfd/data/stats/node_false_suspicions.csv').groupby(\"timestamp\").count()\n",
    "mlfd_exp_fs = pd.read_csv('test4_exp_mlfd/data/stats/node_false_suspicions.csv').groupby(\"timestamp\").count()\n",
    "mlfd_weibull_fs = pd.read_csv('test4_weibull_mlfd/data/stats/node_false_suspicions.csv').groupby(\"timestamp\").count()\n",
    "bar_width = 10\n",
    "error_config = {'ecolor': '0.3'}\n",
    "index1 = np.arange(len(mlfd_pattern_fs.values))\n",
    "index2 = np.arange(len(mlfd_nopattern_fs.values))\n",
    "index3 = np.arange(len(mlfd_exp_fs.values))\n",
    "index4 = np.arange(len(mlfd_weibull_fs.values))\n",
    "plt.bar(index1, mlfd_pattern_fs.values, width=bar_width, color='r', error_kw=error_config, label='ml-w-p')\n",
    "plt.bar(index2 + bar_width*3, mlfd_nopattern_fs.values, width=bar_width, color='g', error_kw=error_config, label='ml-wo-p')\n",
    "plt.bar(index3 + bar_width*3, mlfd_exp_fs.values, width=bar_width, color='b', error_kw=error_config, label='ml-exp')\n",
    "plt.bar(index4 + bar_width*3, mlfd_weibull_fs.values, width=bar_width, color='y', error_kw=error_config, label='ml-wei')\n",
    "plt.xlabel('Time')\n",
    "plt.ylabel('Number of false suspicions')\n",
    "plt.title('Number of false suspicions over time')\n",
    "plt.legend()\n",
    "#lt.xticks(index1 + bar_width, ('MLFD', 'EPFD'))\n",
    "plt.tight_layout()\n",
    "axes = plt.gca()\n",
    "#axes.set_xlim([xmin,xmax])\n",
    "#axes.set_ylim([0,10])"
   ]
  },
  {
   "cell_type": "code",
   "execution_count": 14,
   "metadata": {
    "collapsed": true
   },
   "outputs": [],
   "source": [
    "def normalizeTime(row):\n",
    "    tm = row[\"timestamp\"]\n",
    "    #print(\"tm:\" + str(tm)\n",
    "    row[\"timestamp\"] = row[\"timestamp\"] - minTime\n",
    "    return row"
   ]
  },
  {
   "cell_type": "code",
   "execution_count": 16,
   "metadata": {},
   "outputs": [
    {
     "data": {
      "text/html": [
       "<div>\n",
       "<style>\n",
       "    .dataframe thead tr:only-child th {\n",
       "        text-align: right;\n",
       "    }\n",
       "\n",
       "    .dataframe thead th {\n",
       "        text-align: left;\n",
       "    }\n",
       "\n",
       "    .dataframe tbody tr th {\n",
       "        vertical-align: top;\n",
       "    }\n",
       "</style>\n",
       "<table border=\"1\" class=\"dataframe\">\n",
       "  <thead>\n",
       "    <tr style=\"text-align: right;\">\n",
       "      <th></th>\n",
       "      <th>meanSquaredError</th>\n",
       "      <th>rootMeanSquaredError</th>\n",
       "      <th>rSquared</th>\n",
       "      <th>meanAbsoluteError</th>\n",
       "      <th>explainedVariance</th>\n",
       "      <th>timestamp</th>\n",
       "    </tr>\n",
       "  </thead>\n",
       "  <tbody>\n",
       "    <tr>\n",
       "      <th>0</th>\n",
       "      <td>1.216878e+07</td>\n",
       "      <td>3488.377556</td>\n",
       "      <td>-15663.431864</td>\n",
       "      <td>2554.461945</td>\n",
       "      <td>1.229768e+07</td>\n",
       "      <td>1505562014000</td>\n",
       "    </tr>\n",
       "    <tr>\n",
       "      <th>1</th>\n",
       "      <td>5.023363e+07</td>\n",
       "      <td>7087.568790</td>\n",
       "      <td>-188.920910</td>\n",
       "      <td>5288.286646</td>\n",
       "      <td>5.531901e+07</td>\n",
       "      <td>1505562021000</td>\n",
       "    </tr>\n",
       "    <tr>\n",
       "      <th>2</th>\n",
       "      <td>5.446209e+07</td>\n",
       "      <td>7379.843702</td>\n",
       "      <td>-28.121999</td>\n",
       "      <td>5280.677889</td>\n",
       "      <td>7.032427e+07</td>\n",
       "      <td>1505562028000</td>\n",
       "    </tr>\n",
       "    <tr>\n",
       "      <th>3</th>\n",
       "      <td>2.673798e+07</td>\n",
       "      <td>5170.878353</td>\n",
       "      <td>-19.661981</td>\n",
       "      <td>3990.969047</td>\n",
       "      <td>3.527242e+07</td>\n",
       "      <td>1505562035000</td>\n",
       "    </tr>\n",
       "    <tr>\n",
       "      <th>4</th>\n",
       "      <td>3.141861e+07</td>\n",
       "      <td>5605.230515</td>\n",
       "      <td>-8.393892</td>\n",
       "      <td>4098.032006</td>\n",
       "      <td>4.817663e+07</td>\n",
       "      <td>1505562043000</td>\n",
       "    </tr>\n",
       "  </tbody>\n",
       "</table>\n",
       "</div>"
      ],
      "text/plain": [
       "   meanSquaredError  rootMeanSquaredError      rSquared  meanAbsoluteError  \\\n",
       "0      1.216878e+07           3488.377556 -15663.431864        2554.461945   \n",
       "1      5.023363e+07           7087.568790   -188.920910        5288.286646   \n",
       "2      5.446209e+07           7379.843702    -28.121999        5280.677889   \n",
       "3      2.673798e+07           5170.878353    -19.661981        3990.969047   \n",
       "4      3.141861e+07           5605.230515     -8.393892        4098.032006   \n",
       "\n",
       "   explainedVariance      timestamp  \n",
       "0       1.229768e+07  1505562014000  \n",
       "1       5.531901e+07  1505562021000  \n",
       "2       7.032427e+07  1505562028000  \n",
       "3       3.527242e+07  1505562035000  \n",
       "4       4.817663e+07  1505562043000  "
      ]
     },
     "execution_count": 16,
     "metadata": {},
     "output_type": "execute_result"
    }
   ],
   "source": [
    "pattern_mlfd_eval = pd.read_csv(\"test4_pattern_mlfd/data/stats/testresults.csv\")\n",
    "sorted_eval = pattern_mlfd_eval.sort_values(\"timestamp\")\n",
    "sorted_eval.head()"
   ]
  },
  {
   "cell_type": "code",
   "execution_count": 17,
   "metadata": {
    "collapsed": true
   },
   "outputs": [],
   "source": [
    "minTime = sorted_eval[\"timestamp\"].values[0]\n",
    "df = sorted_eval.apply(normalizeTime, axis=1)\n",
    "time_pattern_mlfd = df[\"timestamp\"].values\n",
    "mse_pattern_mlfd = df[\"meanSquaredError\"].values"
   ]
  },
  {
   "cell_type": "code",
   "execution_count": 18,
   "metadata": {
    "collapsed": true
   },
   "outputs": [],
   "source": [
    "nopattern_mlfd_eval = pd.read_csv(\"test4_nopattern_mlfd/data/stats/testresults.csv\")\n",
    "sorted_eval = nopattern_mlfd_eval.sort_values(\"timestamp\")\n",
    "minTime = sorted_eval[\"timestamp\"].values[0]\n",
    "df = sorted_eval.apply(normalizeTime, axis=1)\n",
    "time_nopattern_mlfd = df[\"timestamp\"].values\n",
    "mse_nopattern_mlfd = df[\"meanSquaredError\"].values\n",
    "#time_nopattern_mlfd = time_nopattern_mlfd.drop(len(time_nopattern_mlfd)-1)\n",
    "#time_nopattern_mlfd = time_nopattern_mlfd.drop(len(time_nopattern_mlfd)-1)\n",
    "#time_nopattern_mlfd = time_nopattern_mlfd.drop(len(time_nopattern_mlfd)-1).values"
   ]
  },
  {
   "cell_type": "code",
   "execution_count": 19,
   "metadata": {
    "collapsed": true
   },
   "outputs": [],
   "source": [
    "exp_mlfd_eval = pd.read_csv(\"test4_exp_mlfd/data/stats/testresults.csv\")\n",
    "sorted_eval = exp_mlfd_eval.sort_values(\"timestamp\")\n",
    "minTime = sorted_eval[\"timestamp\"].values[0]\n",
    "df = sorted_eval.apply(normalizeTime, axis=1)\n",
    "time_exp_mlfd = df[\"timestamp\"].values\n",
    "mse_exp_mlfd = df[\"meanSquaredError\"].values"
   ]
  },
  {
   "cell_type": "code",
   "execution_count": 20,
   "metadata": {
    "collapsed": true
   },
   "outputs": [],
   "source": [
    "weibull_mlfd_eval = pd.read_csv(\"test4_weibull_mlfd/data/stats/testresults.csv\")\n",
    "sorted_eval = weibull_mlfd_eval.sort_values(\"timestamp\")\n",
    "minTime = sorted_eval[\"timestamp\"].values[0]\n",
    "def normalizeTime(row):\n",
    "    tm = row[\"timestamp\"]\n",
    "    #print(\"tm:\" + str(tm)\n",
    "    row[\"timestamp\"] = row[\"timestamp\"] - minTime\n",
    "    return row\n",
    "\n",
    "df = sorted_eval.apply(normalizeTime, axis=1)\n",
    "time_weibull_mlfd = df[\"timestamp\"].values\n",
    "mse_weibull_mlfd = df[\"meanSquaredError\"].values"
   ]
  },
  {
   "cell_type": "code",
   "execution_count": 21,
   "metadata": {},
   "outputs": [
    {
     "data": {
      "image/png": "[encoded data removed]",
      "text/plain": [
       "<matplotlib.figure.Figure at 0x7f053a25d550>"
      ]
     },
     "metadata": {},
     "output_type": "display_data"
    }
   ],
   "source": [
    "plt.plot(time_pattern_mlfd, mse_pattern_mlfd, label=r'$RTT \\sim \\mathcal{N}_p(\\mu, \\sigma^2)$', color=\"r\")\n",
    "plt.plot(time_nopattern_mlfd, mse_nopattern_mlfd, label=r'$RTT \\sim \\mathcal{N}_{np}(\\mu, \\sigma^2)$', color=\"g\")\n",
    "plt.plot(time_exp_mlfd, mse_exp_mlfd, label=r\"$RTT \\sim Exp_p(\\mu)$\", color=\"y\")\n",
    "plt.plot(time_weibull_mlfd, mse_weibull_mlfd, label=r\"$RTT \\sim Wei_p(\\lambda, 1.5)$\", color=\"b\")\n",
    "plt.ylabel(r'Mean Squared Error ($MSE$)')\n",
    "plt.xlabel('Time (ms)')\n",
    "plt.title(r'$MSE$ for timeout predictions with respect to time')\n",
    "plt.legend()\n",
    "plt.savefig('mse_comparison.eps', format='eps', dpi=1000)\n",
    "plt.show()"
   ]
  },
  {
   "cell_type": "code",
   "execution_count": 22,
   "metadata": {},
   "outputs": [
    {
     "data": {
      "image/png": "[encoded data removed]",
      "text/plain": [
       "<matplotlib.figure.Figure at 0x7f053b3148d0>"
      ]
     },
     "metadata": {},
     "output_type": "display_data"
    }
   ],
   "source": [
    "weibull_mlfd_eval.head\n",
    "pattern_mlfd_eval.head\n",
    "rsq_pattern_mlfd = pattern_mlfd_eval[\"rSquared\"].values\n",
    "rsq_nopattern_mlfd = nopattern_mlfd_eval[\"rSquared\"].values\n",
    "rsq_weibull_mlfd = weibull_mlfd_eval[\"rSquared\"].values\n",
    "rsq_exp_mlfd = exp_mlfd_eval[\"rSquared\"].values\n",
    "plt.plot(time_pattern_mlfd, rsq_pattern_mlfd, label=\"ml-w-p\")\n",
    "plt.plot(time_nopattern_mlfd, rsq_nopattern_mlfd, label=\"ml-wo-p\")\n",
    "plt.plot(time_exp_mlfd, rsq_exp_mlfd, label=\"ml-exp\")\n",
    "plt.plot(time_weibull_mlfd, rsq_weibull_mlfd, label=\"ml-wei\")\n",
    "plt.ylabel('Mean Squared Error')\n",
    "plt.xlabel('timestamps')\n",
    "plt.title('MSE for timeout predictions with respect to time')\n",
    "plt.legend()\n",
    "plt.show()"
   ]
  },
  {
   "cell_type": "code",
   "execution_count": null,
   "metadata": {
    "collapsed": true
   },
   "outputs": [],
   "source": []
  }
 ],
 "metadata": {
  "kernelspec": {
   "display_name": "Python 3",
   "language": "python",
   "name": "python3"
  },
  "language_info": {
   "codemirror_mode": {
    "name": "ipython",
    "version": 3
   },
   "file_extension": ".py",
   "mimetype": "text/x-python",
   "name": "python",
   "nbconvert_exporter": "python",
   "pygments_lexer": "ipython3",
   "version": "3.6.1"
  }
 },
 "nbformat": 4,
 "nbformat_minor": 2
}
