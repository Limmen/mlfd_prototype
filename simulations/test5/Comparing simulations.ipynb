{
 "cells": [
  {
   "cell_type": "code",
   "execution_count": 29,
   "metadata": {
    "collapsed": true
   },
   "outputs": [],
   "source": [
    "import pandas as pd\n",
    "import numpy as np\n",
    "import matplotlib.pyplot as plt\n",
    "import math\n",
    "%matplotlib inline"
   ]
  },
  {
   "cell_type": "code",
   "execution_count": 30,
   "metadata": {
    "scrolled": true
   },
   "outputs": [
    {
     "data": {
      "text/html": [
       "<div>\n",
       "<style>\n",
       "    .dataframe thead tr:only-child th {\n",
       "        text-align: right;\n",
       "    }\n",
       "\n",
       "    .dataframe thead th {\n",
       "        text-align: left;\n",
       "    }\n",
       "\n",
       "    .dataframe tbody tr th {\n",
       "        vertical-align: top;\n",
       "    }\n",
       "</style>\n",
       "<table border=\"1\" class=\"dataframe\">\n",
       "  <thead>\n",
       "    <tr style=\"text-align: right;\">\n",
       "      <th></th>\n",
       "      <th>test</th>\n",
       "      <th>workersCount</th>\n",
       "      <th>locationsCount</th>\n",
       "      <th>sampleSize</th>\n",
       "      <th>defaultMean</th>\n",
       "      <th>hbTimeout</th>\n",
       "      <th>stdDevCount</th>\n",
       "      <th>geoFactor</th>\n",
       "      <th>crashProb</th>\n",
       "      <th>delta</th>\n",
       "      <th>...</th>\n",
       "      <th>learningRate</th>\n",
       "      <th>regParam</th>\n",
       "      <th>numIterations</th>\n",
       "      <th>messageLossProb</th>\n",
       "      <th>stdevMargin</th>\n",
       "      <th>stdevFactor</th>\n",
       "      <th>pattern</th>\n",
       "      <th>rand</th>\n",
       "      <th>averageDetectiontime</th>\n",
       "      <th>mistakeRate</th>\n",
       "    </tr>\n",
       "  </thead>\n",
       "  <tbody>\n",
       "    <tr>\n",
       "      <th>0</th>\n",
       "      <td>mlfd_test</td>\n",
       "      <td>100</td>\n",
       "      <td>20</td>\n",
       "      <td>200</td>\n",
       "      <td>3000.0</td>\n",
       "      <td>2 seconds</td>\n",
       "      <td>30</td>\n",
       "      <td>50.0</td>\n",
       "      <td>0.001</td>\n",
       "      <td>nil</td>\n",
       "      <td>...</td>\n",
       "      <td>1.000000e-10</td>\n",
       "      <td>0.3</td>\n",
       "      <td>10</td>\n",
       "      <td>0.01</td>\n",
       "      <td>3.0</td>\n",
       "      <td>100.0</td>\n",
       "      <td>True</td>\n",
       "      <td>False</td>\n",
       "      <td>52821.433333</td>\n",
       "      <td>0.138889</td>\n",
       "    </tr>\n",
       "    <tr>\n",
       "      <th>1</th>\n",
       "      <td>mlfd_test</td>\n",
       "      <td>100</td>\n",
       "      <td>20</td>\n",
       "      <td>200</td>\n",
       "      <td>3000.0</td>\n",
       "      <td>2 seconds</td>\n",
       "      <td>30</td>\n",
       "      <td>50.0</td>\n",
       "      <td>0.001</td>\n",
       "      <td>nil</td>\n",
       "      <td>...</td>\n",
       "      <td>1.000000e-10</td>\n",
       "      <td>0.3</td>\n",
       "      <td>10</td>\n",
       "      <td>0.01</td>\n",
       "      <td>3.0</td>\n",
       "      <td>100.0</td>\n",
       "      <td>False</td>\n",
       "      <td>False</td>\n",
       "      <td>39835.934426</td>\n",
       "      <td>0.142778</td>\n",
       "    </tr>\n",
       "    <tr>\n",
       "      <th>2</th>\n",
       "      <td>mlfd_test</td>\n",
       "      <td>100</td>\n",
       "      <td>20</td>\n",
       "      <td>200</td>\n",
       "      <td>3000.0</td>\n",
       "      <td>2 seconds</td>\n",
       "      <td>30</td>\n",
       "      <td>50.0</td>\n",
       "      <td>0.001</td>\n",
       "      <td>nil</td>\n",
       "      <td>...</td>\n",
       "      <td>1.000000e-10</td>\n",
       "      <td>0.3</td>\n",
       "      <td>10</td>\n",
       "      <td>0.01</td>\n",
       "      <td>3.0</td>\n",
       "      <td>100.0</td>\n",
       "      <td>True</td>\n",
       "      <td>True</td>\n",
       "      <td>39625.216667</td>\n",
       "      <td>0.628889</td>\n",
       "    </tr>\n",
       "  </tbody>\n",
       "</table>\n",
       "<p>3 rows × 24 columns</p>\n",
       "</div>"
      ],
      "text/plain": [
       "        test  workersCount  locationsCount  sampleSize  defaultMean  \\\n",
       "0  mlfd_test           100              20         200       3000.0   \n",
       "1  mlfd_test           100              20         200       3000.0   \n",
       "2  mlfd_test           100              20         200       3000.0   \n",
       "\n",
       "   hbTimeout  stdDevCount  geoFactor  crashProb delta     ...       \\\n",
       "0  2 seconds           30       50.0      0.001   nil     ...        \n",
       "1  2 seconds           30       50.0      0.001   nil     ...        \n",
       "2  2 seconds           30       50.0      0.001   nil     ...        \n",
       "\n",
       "   learningRate  regParam  numIterations  messageLossProb  stdevMargin  \\\n",
       "0  1.000000e-10       0.3             10             0.01          3.0   \n",
       "1  1.000000e-10       0.3             10             0.01          3.0   \n",
       "2  1.000000e-10       0.3             10             0.01          3.0   \n",
       "\n",
       "   stdevFactor  pattern   rand  averageDetectiontime  mistakeRate  \n",
       "0        100.0     True  False          52821.433333     0.138889  \n",
       "1        100.0    False  False          39835.934426     0.142778  \n",
       "2        100.0     True   True          39625.216667     0.628889  \n",
       "\n",
       "[3 rows x 24 columns]"
      ]
     },
     "execution_count": 30,
     "metadata": {},
     "output_type": "execute_result"
    }
   ],
   "source": [
    "test_info = pd.read_csv(\"./test_info.csv\")\n",
    "test_info"
   ]
  },
  {
   "cell_type": "markdown",
   "metadata": {
    "collapsed": true
   },
   "source": [
    "## "
   ]
  },
  {
   "cell_type": "code",
   "execution_count": 33,
   "metadata": {},
   "outputs": [
    {
     "data": {
      "text/plain": [
       "<matplotlib.text.Text at 0x7f6d626ee2b0>"
      ]
     },
     "execution_count": 33,
     "metadata": {},
     "output_type": "execute_result"
    },
    {
     "data": {
      "image/png": "[encoded data removed]",
      "text/plain": [
       "<matplotlib.figure.Figure at 0x7f6d627a64a8>"
      ]
     },
     "metadata": {},
     "output_type": "display_data"
    }
   ],
   "source": [
    "mlfdPattern = test_info.iloc[0][\"mistakeRate\"]\n",
    "mlfdNoPattern = test_info.iloc[1][\"mistakeRate\"]\n",
    "mlfdRandomPattern = test_info.iloc[2][\"mistakeRate\"]\n",
    "data = [mlfdPattern, mlfdNoPattern, mlfdRandomPattern]\n",
    "labels = ('MLFD_With_Pattern', 'MLFD_No_Pattern', \"MLFD_Random_Pattern\")\n",
    "N = len(labels)\n",
    "x = range(N)\n",
    "width = 1/1.5\n",
    "barlist = plt.bar(x, data, width, color=\"blue\")\n",
    "barlist[0].set_color('r')\n",
    "barlist[1].set_color('g')\n",
    "plt.xticks(np.arange(N), labels)\n",
    "plt.ylabel('mistakeRate (mistake/s)')\n",
    "plt.title('Comparisons of MLFD & EPFD in environments with different RTT patterns (or no patterns)')"
   ]
  },
  {
   "cell_type": "code",
   "execution_count": 55,
   "metadata": {},
   "outputs": [
    {
     "data": {
      "text/plain": [
       "(0, 10)"
      ]
     },
     "execution_count": 55,
     "metadata": {},
     "output_type": "execute_result"
    },
    {
     "data": {
      "image/png": "[encoded data removed]",
      "text/plain": [
       "<matplotlib.figure.Figure at 0x7f6d5f0feba8>"
      ]
     },
     "metadata": {},
     "output_type": "display_data"
    }
   ],
   "source": [
    "fs_mlfd_pattern = pd.read_csv('test5_pattern_mlfd/data/stats/node_false_suspicions.csv').groupby(\"timestamp\").count()\n",
    "fs_mlfd_no_pattern = pd.read_csv('test5_nopattern_mlfd/data/stats/node_false_suspicions.csv').groupby(\"timestamp\").count()\n",
    "fs_mlfd_random_pattern = pd.read_csv('test5_random_mlfd/data/stats/node_false_suspicions.csv').groupby(\"timestamp\").count()\n",
    "bar_width = 0.45\n",
    "index1 = np.arange(len(fs_mlfd_pattern.values))\n",
    "index2 = np.arange(len(fs_mlfd_no_pattern.values))\n",
    "index3 = np.arange(len(fs_mlfd_random_pattern))\n",
    "plt.bar(index1, fs_mlfd_pattern.values, width=width, color='r', error_kw=error_config, label='MLFD-with-patterns')\n",
    "plt.bar(index2 + bar_width, fs_mlfd_no_pattern.values, width=width, color='g', error_kw=error_config, label='MLFD-no-patterns')\n",
    "plt.bar(index3 + bar_width, fs_mlfd_random_pattern.values, width=width, color='b', error_kw=error_config, label='MLFD-random-patterns')\n",
    "plt.xlabel('Time')\n",
    "plt.ylabel('Number of false suspicions')\n",
    "plt.title('Number of false suspicions over time')\n",
    "plt.legend()\n",
    "#lt.xticks(index1 + bar_width, ('MLFD', 'EPFD'))\n",
    "plt.tight_layout()\n",
    "axes = plt.gca()\n",
    "#axes.set_xlim([xmin,xmax])\n",
    "axes.set_ylim([0,10])"
   ]
  },
  {
   "cell_type": "code",
   "execution_count": null,
   "metadata": {
    "collapsed": true
   },
   "outputs": [],
   "source": []
  }
 ],
 "metadata": {
  "kernelspec": {
   "display_name": "Python 3",
   "language": "python",
   "name": "python3"
  },
  "language_info": {
   "codemirror_mode": {
    "name": "ipython",
    "version": 3
   },
   "file_extension": ".py",
   "mimetype": "text/x-python",
   "name": "python",
   "nbconvert_exporter": "python",
   "pygments_lexer": "ipython3",
   "version": "3.6.1"
  }
 },
 "nbformat": 4,
 "nbformat_minor": 2
}
